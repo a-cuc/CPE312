{
  "nbformat": 4,
  "nbformat_minor": 0,
  "metadata": {
    "colab": {
      "provenance": [],
      "gpuType": "T4",
      "include_colab_link": true
    },
    "kernelspec": {
      "name": "python3",
      "display_name": "Python 3"
    },
    "language_info": {
      "name": "python"
    },
    "accelerator": "GPU"
  },
  "cells": [
    {
      "cell_type": "markdown",
      "metadata": {
        "id": "view-in-github",
        "colab_type": "text"
      },
      "source": [
        "<a href=\"https://colab.research.google.com/github/a-cuc/CPE312/blob/main/Prelim/HOA%202.2.ipynb\" target=\"_parent\"><img src=\"https://colab.research.google.com/assets/colab-badge.svg\" alt=\"Open In Colab\"/></a>"
      ]
    },
    {
      "cell_type": "markdown",
      "source": [
        "Technological Institute of the Philippines | Quezon City - Computer Engineering\n",
        "--- | ---\n",
        "Course Code: | CPE 312\n",
        "Code Title: | Predictive Analytics using Machine Learning\n",
        "1st Semester | AY 2024-2025\n",
        "<hr> | <hr>\n",
        "<u>**ACTIVITY NO. 3** | **CLASSIFICATION**\n",
        "**Name** | Cu, Angelo Luis C.\n",
        "**Section** | CPE31S3\n",
        "**Date Performed**: | 9/13/2024\n",
        "**Date Submitted**: | 9/14/2024\n",
        "**Instructor**: | Dr. Alonica Villanueva\n",
        "\n",
        "<hr>"
      ],
      "metadata": {
        "id": "Hj9Q5rZAFAlM"
      }
    },
    {
      "cell_type": "markdown",
      "source": [
        "## 1. Objectives"
      ],
      "metadata": {
        "id": "ElMxAUPJGYLw"
      }
    },
    {
      "cell_type": "markdown",
      "source": [
        "This activity aims to strengthen understanding of classification and ability to demonstrate binary, multiclass, multilabel, and multioutput classification while evaluating model performance."
      ],
      "metadata": {
        "id": "dr0bUEs1nxE0"
      }
    },
    {
      "cell_type": "markdown",
      "source": [
        "## 2. Intended Learning Outcomes (ILOs)\n",
        "After this activity, the students should be able to:\n",
        "* Demonstrate classification for binary, multiclass, multilabel and multioutput problems.\n",
        "* Evaluate the performance of different classification models through an analysis of different performance metrics."
      ],
      "metadata": {
        "id": "do-8nSpXFpyd"
      }
    },
    {
      "cell_type": "markdown",
      "source": [
        "## 3. Procedures and Outputs"
      ],
      "metadata": {
        "id": "X-RNZovNGV9k"
      }
    },
    {
      "cell_type": "markdown",
      "source": [
        "In the first module, we mentioned that the most common supervised learning tasks are regression (predicting values) and classification (predicting classes). Then, we explored a regression tasks. Now we will turn our attention to classification systems."
      ],
      "metadata": {
        "id": "5X9Q-y9G4YH-"
      }
    },
    {
      "cell_type": "markdown",
      "metadata": {
        "id": "O09D_4cjrpjT"
      },
      "source": [
        "### 3.1 MNIST"
      ]
    },
    {
      "cell_type": "markdown",
      "source": [
        "![mnist-3.0.1.png](data:image/png;base64,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)"
      ],
      "metadata": {
        "id": "mWK678An427U"
      }
    },
    {
      "cell_type": "markdown",
      "source": [
        "In this chapter, we will be using the MNIST dataset, which is a set of 70,000 small images of digits handwritten by high school students and employees of the US Census Bureau. Each image is labeled with the digit it represents. This set has been studied so much that it is often called the “Hello World” of Machine Learning: whenever people come up with a new classification algorithm, they are curious to see how it will perform on MNIST. Whenever someone learns Machine Learning, sooner or later they tackle MNIST."
      ],
      "metadata": {
        "id": "CF6TyDyT4uzR"
      }
    },
    {
      "cell_type": "markdown",
      "source": [
        "Scikit-Learn provides many helper functions to download popular datasets. MNIST is one of them. The following code fetches the MNIST dataset:"
      ],
      "metadata": {
        "id": "FXXroQPs5Cgv"
      }
    },
    {
      "cell_type": "code",
      "execution_count": 1,
      "metadata": {
        "id": "V7Wv5nRQrpjU",
        "colab": {
          "base_uri": "https://localhost:8080/"
        },
        "outputId": "3cfd38c9-71c2-4046-d906-f8147f502f1d"
      },
      "outputs": [
        {
          "output_type": "stream",
          "name": "stderr",
          "text": [
            "/usr/local/lib/python3.10/dist-packages/sklearn/datasets/_openml.py:1022: FutureWarning: The default value of `parser` will change from `'liac-arff'` to `'auto'` in 1.4. You can set `parser='auto'` to silence this warning. Therefore, an `ImportError` will be raised from 1.4 if the dataset is dense and pandas is not installed. Note that the pandas parser may return different data types. See the Notes Section in fetch_openml's API doc for details.\n",
            "  warn(\n"
          ]
        }
      ],
      "source": [
        "from sklearn.datasets import fetch_openml\n",
        "\n",
        "mnist = fetch_openml('mnist_784', as_frame=False)"
      ]
    },
    {
      "cell_type": "markdown",
      "source": [
        "Datasets loaded by Scikit-Learn generally have a similar dictionary structure including:\n",
        "* A DESCR key describing the dataset\n",
        "* A data key containing an array with one row per instance and one column per feature\n",
        "* A target key containing an array with the labels"
      ],
      "metadata": {
        "id": "j9_QJxcj5GGJ"
      }
    },
    {
      "cell_type": "code",
      "execution_count": 2,
      "metadata": {
        "id": "2w_46aKJrpjU",
        "outputId": "e0793298-cf26-4507-fc64-89578f8a746c",
        "colab": {
          "base_uri": "https://localhost:8080/"
        }
      },
      "outputs": [
        {
          "output_type": "stream",
          "name": "stdout",
          "text": [
            "**Author**: Yann LeCun, Corinna Cortes, Christopher J.C. Burges  \n",
            "**Source**: [MNIST Website](http://yann.lecun.com/exdb/mnist/) - Date unknown  \n",
            "**Please cite**:  \n",
            "\n",
            "The MNIST database of handwritten digits with 784 features, raw data available at: http://yann.lecun.com/exdb/mnist/. It can be split in a training set of the first 60,000 examples, and a test set of 10,000 examples  \n",
            "\n",
            "It is a subset of a larger set available from NIST. The digits have been size-normalized and centered in a fixed-size image. It is a good database for people who want to try learning techniques and pattern recognition methods on real-world data while spending minimal efforts on preprocessing and formatting. The original black and white (bilevel) images from NIST were size normalized to fit in a 20x20 pixel box while preserving their aspect ratio. The resulting images contain grey levels as a result of the anti-aliasing technique used by the normalization algorithm. the images were centered in a 28x28 image by computing the center of mass of the pixels, and translating the image so as to position this point at the center of the 28x28 field.  \n",
            "\n",
            "With some classification methods (particularly template-based methods, such as SVM and K-nearest neighbors), the error rate improves when the digits are centered by bounding box rather than center of mass. If you do this kind of pre-processing, you should report it in your publications. The MNIST database was constructed from NIST's NIST originally designated SD-3 as their training set and SD-1 as their test set. However, SD-3 is much cleaner and easier to recognize than SD-1. The reason for this can be found on the fact that SD-3 was collected among Census Bureau employees, while SD-1 was collected among high-school students. Drawing sensible conclusions from learning experiments requires that the result be independent of the choice of training set and test among the complete set of samples. Therefore it was necessary to build a new database by mixing NIST's datasets.  \n",
            "\n",
            "The MNIST training set is composed of 30,000 patterns from SD-3 and 30,000 patterns from SD-1. Our test set was composed of 5,000 patterns from SD-3 and 5,000 patterns from SD-1. The 60,000 pattern training set contained examples from approximately 250 writers. We made sure that the sets of writers of the training set and test set were disjoint. SD-1 contains 58,527 digit images written by 500 different writers. In contrast to SD-3, where blocks of data from each writer appeared in sequence, the data in SD-1 is scrambled. Writer identities for SD-1 is available and we used this information to unscramble the writers. We then split SD-1 in two: characters written by the first 250 writers went into our new training set. The remaining 250 writers were placed in our test set. Thus we had two sets with nearly 30,000 examples each. The new training set was completed with enough examples from SD-3, starting at pattern # 0, to make a full set of 60,000 training patterns. Similarly, the new test set was completed with SD-3 examples starting at pattern # 35,000 to make a full set with 60,000 test patterns. Only a subset of 10,000 test images (5,000 from SD-1 and 5,000 from SD-3) is available on this site. The full 60,000 sample training set is available.\n",
            "\n",
            "Downloaded from openml.org.\n"
          ]
        }
      ],
      "source": [
        "# extra code – it's a bit too long\n",
        "print(mnist.DESCR)"
      ]
    },
    {
      "cell_type": "code",
      "execution_count": 3,
      "metadata": {
        "id": "w8goavXFrpjU",
        "outputId": "d3459dc0-e248-4bb2-bd5c-6bc5c9bbd59c",
        "colab": {
          "base_uri": "https://localhost:8080/"
        }
      },
      "outputs": [
        {
          "output_type": "execute_result",
          "data": {
            "text/plain": [
              "dict_keys(['data', 'target', 'frame', 'categories', 'feature_names', 'target_names', 'DESCR', 'details', 'url'])"
            ]
          },
          "metadata": {},
          "execution_count": 3
        }
      ],
      "source": [
        "mnist.keys()  # extra code – we only use data and target in this notebook"
      ]
    },
    {
      "cell_type": "markdown",
      "source": [
        "There are 70,000 images, and each image has 784 features. This is because each image is 28×28 pixels, and each feature simply represents one pixel’s intensity, from 0\n",
        "(white) to 255 (black). Let’s take a peek at one digit from the dataset. All you need to do is grab an instance’s feature vector, reshape it to a 28×28 array, and display it using Matplotlib’s imshow() function:"
      ],
      "metadata": {
        "id": "qAs3USyc5SH8"
      }
    },
    {
      "cell_type": "code",
      "execution_count": 4,
      "metadata": {
        "id": "L0bIMKSwrpjU",
        "outputId": "4d1eca39-542e-4c18-86ed-00eab1f6e653",
        "colab": {
          "base_uri": "https://localhost:8080/"
        }
      },
      "outputs": [
        {
          "output_type": "execute_result",
          "data": {
            "text/plain": [
              "array([[0., 0., 0., ..., 0., 0., 0.],\n",
              "       [0., 0., 0., ..., 0., 0., 0.],\n",
              "       [0., 0., 0., ..., 0., 0., 0.],\n",
              "       ...,\n",
              "       [0., 0., 0., ..., 0., 0., 0.],\n",
              "       [0., 0., 0., ..., 0., 0., 0.],\n",
              "       [0., 0., 0., ..., 0., 0., 0.]])"
            ]
          },
          "metadata": {},
          "execution_count": 4
        }
      ],
      "source": [
        "X, y = mnist.data, mnist.target\n",
        "X"
      ]
    },
    {
      "cell_type": "code",
      "execution_count": 5,
      "metadata": {
        "id": "wsZSkKvArpjV",
        "outputId": "8a6d8837-232b-48de-868a-41d249b8d050",
        "colab": {
          "base_uri": "https://localhost:8080/"
        }
      },
      "outputs": [
        {
          "output_type": "execute_result",
          "data": {
            "text/plain": [
              "(70000, 784)"
            ]
          },
          "metadata": {},
          "execution_count": 5
        }
      ],
      "source": [
        "X.shape"
      ]
    },
    {
      "cell_type": "code",
      "execution_count": 6,
      "metadata": {
        "id": "f6wioTh-rpjV",
        "outputId": "d42f42b5-04a6-457c-f98c-411b78438374",
        "colab": {
          "base_uri": "https://localhost:8080/"
        }
      },
      "outputs": [
        {
          "output_type": "execute_result",
          "data": {
            "text/plain": [
              "array(['5', '0', '4', ..., '4', '5', '6'], dtype=object)"
            ]
          },
          "metadata": {},
          "execution_count": 6
        }
      ],
      "source": [
        "y"
      ]
    },
    {
      "cell_type": "code",
      "execution_count": 7,
      "metadata": {
        "id": "iSSLnwp1rpjV",
        "outputId": "ccf9b985-0e68-4ea9-df80-7276711d3e21",
        "colab": {
          "base_uri": "https://localhost:8080/"
        }
      },
      "outputs": [
        {
          "output_type": "execute_result",
          "data": {
            "text/plain": [
              "(70000,)"
            ]
          },
          "metadata": {},
          "execution_count": 7
        }
      ],
      "source": [
        "y.shape"
      ]
    },
    {
      "cell_type": "code",
      "execution_count": 8,
      "metadata": {
        "id": "G6JTDUxXrpjV",
        "outputId": "353f2398-d852-4ebe-adac-11c94d486d3b",
        "colab": {
          "base_uri": "https://localhost:8080/"
        }
      },
      "outputs": [
        {
          "output_type": "execute_result",
          "data": {
            "text/plain": [
              "784"
            ]
          },
          "metadata": {},
          "execution_count": 8
        }
      ],
      "source": [
        "28 * 28"
      ]
    },
    {
      "cell_type": "code",
      "source": [
        "from pathlib import Path\n",
        "\n",
        "IMAGES_PATH = Path() / \"images\" / \"training_linear_models\"\n",
        "IMAGES_PATH.mkdir(parents=True, exist_ok=True)\n",
        "\n",
        "def save_fig(fig_id, tight_layout=True, fig_extension=\"png\", resolution=300):\n",
        "    path = IMAGES_PATH / f\"{fig_id}.{fig_extension}\"\n",
        "    if tight_layout:\n",
        "        plt.tight_layout()\n",
        "    plt.savefig(path, format=fig_extension, dpi=resolution)"
      ],
      "metadata": {
        "id": "r5Gk6G6-itgE"
      },
      "execution_count": 9,
      "outputs": []
    },
    {
      "cell_type": "code",
      "execution_count": 10,
      "metadata": {
        "id": "2Mn7BZCqrpjV",
        "outputId": "8c288b09-00ec-4fc1-ecca-1f1b4766b585",
        "colab": {
          "base_uri": "https://localhost:8080/",
          "height": 487
        }
      },
      "outputs": [
        {
          "output_type": "display_data",
          "data": {
            "text/plain": [
              "<Figure size 640x480 with 1 Axes>"
            ],
            "image/png": "[encoded data removed]"
          },
          "metadata": {}
        }
      ],
      "source": [
        "import matplotlib.pyplot as plt\n",
        "\n",
        "def plot_digit(image_data):\n",
        "    image = image_data.reshape(28, 28)\n",
        "    plt.imshow(image, cmap=\"binary\")\n",
        "    plt.axis(\"off\")\n",
        "\n",
        "some_digit = X[0]\n",
        "plot_digit(some_digit)\n",
        "save_fig(\"some_digit_plot\")  # extra code\n",
        "plt.show()"
      ]
    },
    {
      "cell_type": "code",
      "execution_count": 11,
      "metadata": {
        "id": "Gath-BBzrpjV",
        "outputId": "2664bceb-73f3-4761-bd92-d089870baa41",
        "colab": {
          "base_uri": "https://localhost:8080/",
          "height": 35
        }
      },
      "outputs": [
        {
          "output_type": "execute_result",
          "data": {
            "text/plain": [
              "'5'"
            ],
            "application/vnd.google.colaboratory.intrinsic+json": {
              "type": "string"
            }
          },
          "metadata": {},
          "execution_count": 11
        }
      ],
      "source": [
        "y[0]"
      ]
    },
    {
      "cell_type": "markdown",
      "source": [
        "Note that the label is a string. We prefer numbers, so let’s cast y to integers:"
      ],
      "metadata": {
        "id": "IXLsw4rCkzdM"
      }
    },
    {
      "cell_type": "code",
      "source": [
        "import numpy as np\n",
        "import pandas as pd\n",
        "\n",
        "y = y.astype(np.uint8)"
      ],
      "metadata": {
        "id": "Kc4m40E0k3jY"
      },
      "execution_count": 12,
      "outputs": []
    },
    {
      "cell_type": "code",
      "execution_count": 13,
      "metadata": {
        "id": "vbZzdEcDrpjV",
        "outputId": "19cdbbf0-8341-4449-e180-a4976e68009c",
        "colab": {
          "base_uri": "https://localhost:8080/",
          "height": 729
        }
      },
      "outputs": [
        {
          "output_type": "display_data",
          "data": {
            "text/plain": [
              "<Figure size 900x900 with 100 Axes>"
            ],
            "image/png": "[encoded data removed]"
          },
          "metadata": {}
        }
      ],
      "source": [
        "# extra code – this cell generates and saves Figure 3–2\n",
        "plt.figure(figsize=(9, 9))\n",
        "for idx, image_data in enumerate(X[:100]):\n",
        "    plt.subplot(10, 10, idx + 1)\n",
        "    plot_digit(image_data)\n",
        "plt.subplots_adjust(wspace=0, hspace=0)\n",
        "save_fig(\"more_digits_plot\", tight_layout=False)\n",
        "plt.show()"
      ]
    },
    {
      "cell_type": "markdown",
      "source": [
        "But wait! You should always create a test set and set it aside before inspecting the data closely. The MNIST dataset is actually already split into a training set (the first 60,000 images) and a test set (the last 10,000 images):"
      ],
      "metadata": {
        "id": "3hIKEl0blMqQ"
      }
    },
    {
      "cell_type": "code",
      "execution_count": 14,
      "metadata": {
        "id": "7yFc1FCMrpjW"
      },
      "outputs": [],
      "source": [
        "X_train, X_test, y_train, y_test = X[:60000], X[60000:], y[:60000], y[60000:]"
      ]
    },
    {
      "cell_type": "markdown",
      "source": [
        "The training set is already shuffled for us, which is good as this guarantees that all cross-validation folds will be similar (you don’t want one fold to be missing some digits). Moreover, some learning algorithms are sensitive to the order of the training instances, and they perform poorly if they get many similar instances in a row. **Why do you think shuffling the dataset ensures that this won’t happen?**\n",
        "\n",
        "<font color=\"blue\"> Cross-validation works by getting a slice of the dataset and testing the model with that sliced dataset. If the data is not shuffled then the slice that the cross-validation would get might only be filled with images of number 5 for example, which would show a better test score than usual.</font>"
      ],
      "metadata": {
        "id": "Z3mysrlylQsV"
      }
    },
    {
      "cell_type": "markdown",
      "metadata": {
        "id": "GW3aokwXrpjW"
      },
      "source": [
        "### 3.2 Training a Binary Classifier"
      ]
    },
    {
      "cell_type": "markdown",
      "source": [
        "Let’s simplify the problem for now and only try to identify one digit—for example, the number 5. This “5-detector” will be an example of a binary classifier, capable of distinguishing between just two classes, 5 and not-5. Let’s create the target vectors for this classification task:"
      ],
      "metadata": {
        "id": "s5lHbp-Ilh64"
      }
    },
    {
      "cell_type": "code",
      "execution_count": 15,
      "metadata": {
        "id": "Rz9kwPntrpjW"
      },
      "outputs": [],
      "source": [
        "y_train_5 = (y_train == 5)  # True for all 5s, False for all other digits\n",
        "y_test_5 = (y_test == 5)"
      ]
    },
    {
      "cell_type": "markdown",
      "source": [
        "Okay, now let’s pick a classifier and train it. A good place to start is with a Stochastic Gradient Descent (SGD) classifier, using Scikit-Learn’s SGDClassifier class. This classifier has the advantage of being capable of handling very large datasets efficiently.\n",
        "\n",
        "This is in part because SGD deals with training instances independently, one at a time (which also makes SGD well suited for online learning), as we will see later. Let’s create an SGDClassifier and train it on the whole training set:"
      ],
      "metadata": {
        "id": "ngipuXF-lqRR"
      }
    },
    {
      "cell_type": "code",
      "execution_count": 16,
      "metadata": {
        "id": "Rl47KC8FrpjW",
        "outputId": "ff57d2cb-5924-4627-c952-0c91b2b61ede",
        "colab": {
          "base_uri": "https://localhost:8080/",
          "height": 75
        }
      },
      "outputs": [
        {
          "output_type": "execute_result",
          "data": {
            "text/plain": [
              "SGDClassifier(random_state=42)"
            ],
            "text/html": [
              "<style>#sk-container-id-1 {color: black;}#sk-container-id-1 pre{padding: 0;}#sk-container-id-1 div.sk-toggleable {background-color: white;}#sk-container-id-1 label.sk-toggleable__label {cursor: pointer;display: block;width: 100%;margin-bottom: 0;padding: 0.3em;box-sizing: border-box;text-align: center;}#sk-container-id-1 label.sk-toggleable__label-arrow:before {content: \"▸\";float: left;margin-right: 0.25em;color: #696969;}#sk-container-id-1 label.sk-toggleable__label-arrow:hover:before {color: black;}#sk-container-id-1 div.sk-estimator:hover label.sk-toggleable__label-arrow:before {color: black;}#sk-container-id-1 div.sk-toggleable__content {max-height: 0;max-width: 0;overflow: hidden;text-align: left;background-color: #f0f8ff;}#sk-container-id-1 div.sk-toggleable__content pre {margin: 0.2em;color: black;border-radius: 0.25em;background-color: #f0f8ff;}#sk-container-id-1 input.sk-toggleable__control:checked~div.sk-toggleable__content {max-height: 200px;max-width: 100%;overflow: auto;}#sk-container-id-1 input.sk-toggleable__control:checked~label.sk-toggleable__label-arrow:before {content: \"▾\";}#sk-container-id-1 div.sk-estimator input.sk-toggleable__control:checked~label.sk-toggleable__label {background-color: #d4ebff;}#sk-container-id-1 div.sk-label input.sk-toggleable__control:checked~label.sk-toggleable__label {background-color: #d4ebff;}#sk-container-id-1 input.sk-hidden--visually {border: 0;clip: rect(1px 1px 1px 1px);clip: rect(1px, 1px, 1px, 1px);height: 1px;margin: -1px;overflow: hidden;padding: 0;position: absolute;width: 1px;}#sk-container-id-1 div.sk-estimator {font-family: monospace;background-color: #f0f8ff;border: 1px dotted black;border-radius: 0.25em;box-sizing: border-box;margin-bottom: 0.5em;}#sk-container-id-1 div.sk-estimator:hover {background-color: #d4ebff;}#sk-container-id-1 div.sk-parallel-item::after {content: \"\";width: 100%;border-bottom: 1px solid gray;flex-grow: 1;}#sk-container-id-1 div.sk-label:hover label.sk-toggleable__label {background-color: #d4ebff;}#sk-container-id-1 div.sk-serial::before {content: \"\";position: absolute;border-left: 1px solid gray;box-sizing: border-box;top: 0;bottom: 0;left: 50%;z-index: 0;}#sk-container-id-1 div.sk-serial {display: flex;flex-direction: column;align-items: center;background-color: white;padding-right: 0.2em;padding-left: 0.2em;position: relative;}#sk-container-id-1 div.sk-item {position: relative;z-index: 1;}#sk-container-id-1 div.sk-parallel {display: flex;align-items: stretch;justify-content: center;background-color: white;position: relative;}#sk-container-id-1 div.sk-item::before, #sk-container-id-1 div.sk-parallel-item::before {content: \"\";position: absolute;border-left: 1px solid gray;box-sizing: border-box;top: 0;bottom: 0;left: 50%;z-index: -1;}#sk-container-id-1 div.sk-parallel-item {display: flex;flex-direction: column;z-index: 1;position: relative;background-color: white;}#sk-container-id-1 div.sk-parallel-item:first-child::after {align-self: flex-end;width: 50%;}#sk-container-id-1 div.sk-parallel-item:last-child::after {align-self: flex-start;width: 50%;}#sk-container-id-1 div.sk-parallel-item:only-child::after {width: 0;}#sk-container-id-1 div.sk-dashed-wrapped {border: 1px dashed gray;margin: 0 0.4em 0.5em 0.4em;box-sizing: border-box;padding-bottom: 0.4em;background-color: white;}#sk-container-id-1 div.sk-label label {font-family: monospace;font-weight: bold;display: inline-block;line-height: 1.2em;}#sk-container-id-1 div.sk-label-container {text-align: center;}#sk-container-id-1 div.sk-container {/* jupyter's `normalize.less` sets `[hidden] { display: none; }` but bootstrap.min.css set `[hidden] { display: none !important; }` so we also need the `!important` here to be able to override the default hidden behavior on the sphinx rendered scikit-learn.org. See: https://github.com/scikit-learn/scikit-learn/issues/21755 */display: inline-block !important;position: relative;}#sk-container-id-1 div.sk-text-repr-fallback {display: none;}</style><div id=\"sk-container-id-1\" class=\"sk-top-container\"><div class=\"sk-text-repr-fallback\"><pre>SGDClassifier(random_state=42)</pre><b>In a Jupyter environment, please rerun this cell to show the HTML representation or trust the notebook. <br />On GitHub, the HTML representation is unable to render, please try loading this page with nbviewer.org.</b></div><div class=\"sk-container\" hidden><div class=\"sk-item\"><div class=\"sk-estimator sk-toggleable\"><input class=\"sk-toggleable__control sk-hidden--visually\" id=\"sk-estimator-id-1\" type=\"checkbox\" checked><label for=\"sk-estimator-id-1\" class=\"sk-toggleable__label sk-toggleable__label-arrow\">SGDClassifier</label><div class=\"sk-toggleable__content\"><pre>SGDClassifier(random_state=42)</pre></div></div></div></div></div>"
            ]
          },
          "metadata": {},
          "execution_count": 16
        }
      ],
      "source": [
        "from sklearn.linear_model import SGDClassifier\n",
        "\n",
        "sgd_clf = SGDClassifier(random_state=42)\n",
        "sgd_clf.fit(X_train, y_train_5)"
      ]
    },
    {
      "cell_type": "markdown",
      "source": [
        "**Review: How does SGD work during training? What happens when we do not set the random_state parameter?**\n",
        "\n",
        "<font color=\"blue\"> Gradient Descent works by fitting a line in the data and then checks if the error is low, it then adjusts this until the error is lowest. In SGD this is done on random instance of the dataset which is useful if the dataset is large. The random_state parameter ensures that the model that we are doing is repeatable and if this is not set the model would still work but if the code is ran again the result would be slightly different</font>"
      ],
      "metadata": {
        "id": "vLifP-QvlxDH"
      }
    },
    {
      "cell_type": "markdown",
      "source": [
        "Now you can use it to detect images of the number 5:"
      ],
      "metadata": {
        "id": "EaWj5p7gmDj0"
      }
    },
    {
      "cell_type": "code",
      "execution_count": 17,
      "metadata": {
        "id": "jaWcFf-VrpjW",
        "outputId": "84bca073-17d1-4874-9548-a106874c100b",
        "colab": {
          "base_uri": "https://localhost:8080/"
        }
      },
      "outputs": [
        {
          "output_type": "execute_result",
          "data": {
            "text/plain": [
              "array([ True])"
            ]
          },
          "metadata": {},
          "execution_count": 17
        }
      ],
      "source": [
        "sgd_clf.predict([some_digit])"
      ]
    },
    {
      "cell_type": "markdown",
      "source": [
        "The classifier guesses that this image represents a 5 (True). Looks like it guessed right in this particular case! Now, let’s evaluate this model’s performance."
      ],
      "metadata": {
        "id": "rZWhfWrQmGVt"
      }
    },
    {
      "cell_type": "markdown",
      "source": [
        "**Perform a few tests (10 correct digits and 10 incorrect digits) and check the performance of this classifier. How well did it perform?**"
      ],
      "metadata": {
        "id": "-PN1t_hznebK"
      }
    },
    {
      "cell_type": "code",
      "source": [
        "# Gets 10 correct and 10 incorrect digits\n",
        "\n",
        "true_indices = np.where(y_test == 5)\n",
        "false_indices = np.where(y_test != 5)\n",
        "\n",
        "test_digits_true_X = X_test[true_indices][:10]\n",
        "test_digits_true_y = y_test[true_indices][:10]\n",
        "test_digits_false_X = X_test[false_indices][:10]\n",
        "test_digits_false_y = y_test[false_indices][:10]\n",
        "\n",
        "\n",
        "for idx, image_data in enumerate(test_digits_true_X):\n",
        "    plt.subplot(10, 10, idx + 1)\n",
        "    plot_digit(image_data)\n",
        "\n",
        "for idx, image_data in enumerate(test_digits_false_X):\n",
        "    idx += 10\n",
        "    plt.subplot(10, 10, idx + 1)\n",
        "    plot_digit(image_data)"
      ],
      "metadata": {
        "colab": {
          "base_uri": "https://localhost:8080/",
          "height": 105
        },
        "id": "tIArO_hLVMkR",
        "outputId": "fe2ee171-0dda-46cd-a402-fce0d560bb77"
      },
      "execution_count": 18,
      "outputs": [
        {
          "output_type": "display_data",
          "data": {
            "text/plain": [
              "<Figure size 640x480 with 20 Axes>"
            ],
            "image/png": "[encoded data removed]"
          },
          "metadata": {}
        }
      ]
    },
    {
      "cell_type": "code",
      "source": [
        "sgd_clf.predict(test_digits_true_X)\n",
        "# The classifier was able to correctly predict 9/10 times\n",
        "# that the number is 5"
      ],
      "metadata": {
        "colab": {
          "base_uri": "https://localhost:8080/"
        },
        "id": "JSBeD80obCK5",
        "outputId": "2f563736-fcc2-4e86-c7fd-1c932d5c4ad0"
      },
      "execution_count": 19,
      "outputs": [
        {
          "output_type": "execute_result",
          "data": {
            "text/plain": [
              "array([False,  True,  True,  True,  True,  True,  True,  True,  True,\n",
              "        True])"
            ]
          },
          "metadata": {},
          "execution_count": 19
        }
      ]
    },
    {
      "cell_type": "code",
      "source": [
        "sgd_clf.predict(test_digits_false_X)\n",
        "# The classifier was able to correctly predict 10/10\n",
        "# that the number is not 5"
      ],
      "metadata": {
        "colab": {
          "base_uri": "https://localhost:8080/"
        },
        "id": "1F8jhfqTbOoL",
        "outputId": "b7b7ca75-1380-41b2-94f9-db2cf49b3f12"
      },
      "execution_count": 20,
      "outputs": [
        {
          "output_type": "execute_result",
          "data": {
            "text/plain": [
              "array([False, False, False, False, False, False, False, False, False,\n",
              "       False])"
            ]
          },
          "metadata": {},
          "execution_count": 20
        }
      ]
    },
    {
      "cell_type": "markdown",
      "metadata": {
        "id": "t-j2RYY6rpjW"
      },
      "source": [
        "### 3.3 Performance Measures"
      ]
    },
    {
      "cell_type": "markdown",
      "source": [
        "Evaluating a classifier is often significantly trickier than evaluating a regressor, so we will spend a large part of this chapter on this topic. There are many performance metrics available, so we will check them out here!"
      ],
      "metadata": {
        "id": "zaOE1pJXpeN0"
      }
    },
    {
      "cell_type": "markdown",
      "metadata": {
        "id": "--MoJTJkrpjW"
      },
      "source": [
        "#### 3.3.1 Measuring Accuracy Using Cross-Validation"
      ]
    },
    {
      "cell_type": "markdown",
      "source": [
        "A good way to evaluate a model is to use cross-validation."
      ],
      "metadata": {
        "id": "IJ_m8MGppnv9"
      }
    },
    {
      "cell_type": "markdown",
      "source": [
        "Let’s use the `cross_val_score()` function to evaluate your SGDClassifier model using K-fold cross-validation, with three folds. Remember that K-fold cross- validation means splitting the training set into K-folds (in this case, three), then mak‐ ing predictions and evaluating them on each fold using a model trained on the remaining folds:"
      ],
      "metadata": {
        "id": "fC01su2VpvIn"
      }
    },
    {
      "cell_type": "code",
      "execution_count": 21,
      "metadata": {
        "id": "D7wT3nHKrpjW",
        "outputId": "1308a09e-afda-43d2-a2e4-181ce0f02299",
        "colab": {
          "base_uri": "https://localhost:8080/"
        }
      },
      "outputs": [
        {
          "output_type": "execute_result",
          "data": {
            "text/plain": [
              "array([0.95035, 0.96035, 0.9604 ])"
            ]
          },
          "metadata": {},
          "execution_count": 21
        }
      ],
      "source": [
        "from sklearn.model_selection import cross_val_score\n",
        "\n",
        "cross_val_score(sgd_clf, X_train, y_train_5, cv=3, scoring=\"accuracy\")"
      ]
    },
    {
      "cell_type": "markdown",
      "source": [
        "**Analyze the result**:\n",
        "- What percentage of accuracy was obtained?\n",
        "- Why did it return 3 values?\n",
        "- Provide your interpretation of this result.\n",
        "\n",
        "<font color=\"blue\"> The accuracy ranges from 95-96% in the three results given. There are three results as cv is set to 3, and cv is also known as the number of folds that the data is split into. The results show that the model is highly accurate in predicting whether the handwriting is 5 or not 5.</font>"
      ],
      "metadata": {
        "id": "hgjrurKVp18z"
      }
    },
    {
      "cell_type": "code",
      "execution_count": 22,
      "metadata": {
        "id": "Cl2sLjDSrpjW",
        "outputId": "5ef0bbf2-e83f-4854-c1ac-2c50b61c3eff",
        "colab": {
          "base_uri": "https://localhost:8080/"
        }
      },
      "outputs": [
        {
          "output_type": "stream",
          "name": "stdout",
          "text": [
            "0.95035\n",
            "0.96035\n",
            "0.9604\n"
          ]
        }
      ],
      "source": [
        "from sklearn.model_selection import StratifiedKFold\n",
        "from sklearn.base import clone\n",
        "\n",
        "skfolds = StratifiedKFold(n_splits=3)  # add shuffle=True if the dataset is not\n",
        "                                       # already shuffled\n",
        "for train_index, test_index in skfolds.split(X_train, y_train_5):\n",
        "    clone_clf = clone(sgd_clf)\n",
        "    X_train_folds = X_train[train_index]\n",
        "    y_train_folds = y_train_5[train_index]\n",
        "    X_test_fold = X_train[test_index]\n",
        "    y_test_fold = y_train_5[test_index]\n",
        "\n",
        "    clone_clf.fit(X_train_folds, y_train_folds)\n",
        "    y_pred = clone_clf.predict(X_test_fold)\n",
        "    n_correct = sum(y_pred == y_test_fold)\n",
        "    print(n_correct / len(y_pred))"
      ]
    },
    {
      "cell_type": "code",
      "execution_count": 23,
      "metadata": {
        "id": "2iEcnInsrpjW",
        "outputId": "beb22997-e049-4436-9c8b-f6bdf0d929a7",
        "colab": {
          "base_uri": "https://localhost:8080/"
        }
      },
      "outputs": [
        {
          "output_type": "stream",
          "name": "stdout",
          "text": [
            "False\n"
          ]
        }
      ],
      "source": [
        "from sklearn.dummy import DummyClassifier\n",
        "\n",
        "dummy_clf = DummyClassifier()\n",
        "dummy_clf.fit(X_train, y_train_5)\n",
        "print(any(dummy_clf.predict(X_train)))"
      ]
    },
    {
      "cell_type": "code",
      "execution_count": 24,
      "metadata": {
        "id": "GDKkRNPvrpjW",
        "outputId": "b93c617d-516a-4312-ea5b-533caf53f03e",
        "colab": {
          "base_uri": "https://localhost:8080/"
        }
      },
      "outputs": [
        {
          "output_type": "execute_result",
          "data": {
            "text/plain": [
              "array([0.90965, 0.90965, 0.90965])"
            ]
          },
          "metadata": {},
          "execution_count": 24
        }
      ],
      "source": [
        "cross_val_score(dummy_clf, X_train, y_train_5, cv=3, scoring=\"accuracy\")"
      ]
    },
    {
      "cell_type": "markdown",
      "source": [
        "That’s right, it has over 90% accuracy! This is simply because only about 10% of the images are 5s, so if you always guess that an image is not a 5, you will be right about 90% of the time. Beats Nostradamus.\n",
        "\n",
        "This demonstrates why accuracy is generally not the preferred performance measure for classifiers, especially when you are dealing with skewed datasets (i.e., when some classes are much more frequent than others).\n"
      ],
      "metadata": {
        "id": "xZc2YcCXqH3r"
      }
    },
    {
      "cell_type": "markdown",
      "source": [
        "**Analyze the results:**\n",
        "- How is this dataset skewed?\n",
        "- Why is the 90% accuracy not reliable?\n",
        "\n",
        "<font color=\"blue\"> The dataset is skewed as the dataset only contains 10% of 5 compared to the 90% of the other numbers, which means that the model might only be predicting that all of the data is not 5, and it would still be 90% accurate. This also explains why a 90% accuracy is not reliable</font>"
      ],
      "metadata": {
        "id": "wbV0mCH0qMH1"
      }
    },
    {
      "cell_type": "markdown",
      "metadata": {
        "id": "ZNV-D8_DrpjX"
      },
      "source": [
        "#### 3.3.2 Confusion Matrix"
      ]
    },
    {
      "cell_type": "markdown",
      "source": [
        "A much better way to evaluate the performance of a classifier is to look at the confusion matrix. The general idea is to count the number of times instances of class A are classified as class B. For example, to know the number of times the classifier confused images of 5s with 3s, you would look in the 5th row and 3rd column of the confusion matrix.\n",
        "\n",
        "To compute the confusion matrix, you first need to have a set of predictions, so they can be compared to the actual targets. You could make predictions on the test set, but let’s keep it untouched for now (remember that you want to use the test set only at the very end of your project, once you have a classifier that you are ready to launch). Instead, you can use the `cross_val_predict()` function:\n"
      ],
      "metadata": {
        "id": "iQ6TXLzyqcL8"
      }
    },
    {
      "cell_type": "code",
      "execution_count": 25,
      "metadata": {
        "id": "METZp0IVrpjX"
      },
      "outputs": [],
      "source": [
        "from sklearn.model_selection import cross_val_predict\n",
        "\n",
        "y_train_pred = cross_val_predict(sgd_clf, X_train, y_train_5, cv=3)"
      ]
    },
    {
      "cell_type": "markdown",
      "source": [
        "Just like the `cross_val_score()` function, `cross_val_predict()` performs K-fold cross-validation, but instead of returning the evaluation scores, it returns the predictions made on each test fold. This means that you get a clean prediction for each instance in the training set (“clean” meaning that the prediction is made by a model that never saw the data during training).\n",
        "\n"
      ],
      "metadata": {
        "id": "AWKdEj5lqlee"
      }
    },
    {
      "cell_type": "markdown",
      "source": [
        "Now you are ready to get the confusion matrix using the confusion_matrix() function. Just pass it the target classes (y_train_5) and the predicted classes (y_train_pred):"
      ],
      "metadata": {
        "id": "X__4f2RarxsD"
      }
    },
    {
      "cell_type": "code",
      "execution_count": 26,
      "metadata": {
        "id": "o2TvQPvUrpjX",
        "outputId": "c9da12a7-b4f9-4be7-c33f-f70311d9cdef",
        "colab": {
          "base_uri": "https://localhost:8080/"
        }
      },
      "outputs": [
        {
          "output_type": "execute_result",
          "data": {
            "text/plain": [
              "array([[53892,   687],\n",
              "       [ 1891,  3530]])"
            ]
          },
          "metadata": {},
          "execution_count": 26
        }
      ],
      "source": [
        "from sklearn.metrics import confusion_matrix\n",
        "\n",
        "cm = confusion_matrix(y_train_5, y_train_pred)\n",
        "cm"
      ]
    },
    {
      "cell_type": "markdown",
      "source": [
        "**Provide an analysis of the confusion matrix as instructed earlier. How well did it perform based on this metric**?\n",
        "\n",
        "<font color=\"blue\"> The confusion matrix suggests that there is a high amount of false negatives, where the image is actually a number 5 but the model predicted that it is not a number 5.</font>"
      ],
      "metadata": {
        "id": "11VYCcxvrzAJ"
      }
    },
    {
      "cell_type": "code",
      "execution_count": 27,
      "metadata": {
        "id": "x-w9yrONrpjX",
        "outputId": "9d04936a-23b9-482f-ab9d-96168da36c44",
        "colab": {
          "base_uri": "https://localhost:8080/"
        }
      },
      "outputs": [
        {
          "output_type": "execute_result",
          "data": {
            "text/plain": [
              "array([[54579,     0],\n",
              "       [    0,  5421]])"
            ]
          },
          "metadata": {},
          "execution_count": 27
        }
      ],
      "source": [
        "y_train_perfect_predictions = y_train_5  # pretend we reached perfection\n",
        "confusion_matrix(y_train_5, y_train_perfect_predictions)"
      ]
    },
    {
      "cell_type": "markdown",
      "source": [
        "The confusion matrix gives you a lot of information, but sometimes you may prefer a more concise metric. An interesting one to look at is the accuracy of the positive predictions; this is called the precision of the classifier.\n",
        "\n",
        "**What useful information can be obtained from the precision of a model?** Provide an analysis.\n",
        "\n",
        "<font color=\"blue\"> Precision gives as a measure of how accurate are the yes predictions, in this case how often does the model correctly predict the number 5.</font>"
      ],
      "metadata": {
        "id": "dfjkMC05sDA6"
      }
    },
    {
      "cell_type": "markdown",
      "metadata": {
        "id": "8J5PwISWrpjZ"
      },
      "source": [
        "#### 3.3.3 Precision and Recall"
      ]
    },
    {
      "cell_type": "markdown",
      "source": [
        "In this section, we are looking at how precision and recall affect the perform of your classifier."
      ],
      "metadata": {
        "id": "M-Jq8Ag0tFEe"
      }
    },
    {
      "cell_type": "markdown",
      "source": [
        "**But first, define** what is precision and recall?\n",
        "\n",
        "<font color=\"blue\"> Precision is defined in the last cell, and recall is how often it gets true positives, in this case how often does the model predict 5 out of all the 5s in the model. </font>"
      ],
      "metadata": {
        "id": "lQZ1I3GNtK-W"
      }
    },
    {
      "cell_type": "code",
      "execution_count": 28,
      "metadata": {
        "id": "i-PExK9qrpjZ",
        "outputId": "ed69a245-2645-4be0-c137-53f9d920b746",
        "colab": {
          "base_uri": "https://localhost:8080/"
        }
      },
      "outputs": [
        {
          "output_type": "execute_result",
          "data": {
            "text/plain": [
              "0.8370879772350012"
            ]
          },
          "metadata": {},
          "execution_count": 28
        }
      ],
      "source": [
        "from sklearn.metrics import precision_score, recall_score\n",
        "\n",
        "precision_score(y_train_5, y_train_pred)  # == 3530 / (687 + 3530)"
      ]
    },
    {
      "cell_type": "code",
      "execution_count": 29,
      "metadata": {
        "id": "x-go9jgFrpjZ",
        "outputId": "179cdaa8-a1f2-41bb-f7a7-87149e6a9333",
        "colab": {
          "base_uri": "https://localhost:8080/"
        }
      },
      "outputs": [
        {
          "output_type": "execute_result",
          "data": {
            "text/plain": [
              "0.8370879772350012"
            ]
          },
          "metadata": {},
          "execution_count": 29
        }
      ],
      "source": [
        "# extra code – this cell also computes the precision: TP / (FP + TP)\n",
        "cm[1, 1] / (cm[0, 1] + cm[1, 1])"
      ]
    },
    {
      "cell_type": "code",
      "execution_count": 30,
      "metadata": {
        "id": "BW0k6Rh1rpja",
        "outputId": "1bc3d943-5370-4e59-eb26-73d06d26b41c",
        "colab": {
          "base_uri": "https://localhost:8080/"
        }
      },
      "outputs": [
        {
          "output_type": "execute_result",
          "data": {
            "text/plain": [
              "0.6511713705958311"
            ]
          },
          "metadata": {},
          "execution_count": 30
        }
      ],
      "source": [
        "recall_score(y_train_5, y_train_pred)  # == 3530 / (1891 + 3530)"
      ]
    },
    {
      "cell_type": "code",
      "execution_count": 31,
      "metadata": {
        "id": "h7p4ASPorpja",
        "outputId": "c632a5b7-785e-4e15-dd89-31840bad10db",
        "colab": {
          "base_uri": "https://localhost:8080/"
        }
      },
      "outputs": [
        {
          "output_type": "execute_result",
          "data": {
            "text/plain": [
              "0.6511713705958311"
            ]
          },
          "metadata": {},
          "execution_count": 31
        }
      ],
      "source": [
        "# extra code – this cell also computes the recall: TP / (FN + TP)\n",
        "cm[1, 1] / (cm[1, 0] + cm[1, 1])"
      ]
    },
    {
      "cell_type": "markdown",
      "source": [
        "**Question:** Provide an analysis of the results from the codes above. Then define, what is f1 score and why is it an important metric?\n",
        "\n",
        "<font color=\"blue\"> The results suggest a high precision but low recall, which mean that when the model predicts a 5, there is a high chance that it is correct. However, it was not able to predict all the 5s in the dataset. The f1 score is a metric that combines precision and recall and is between 0 and 1, where the closer it is to 1, the better.</font>"
      ],
      "metadata": {
        "id": "7h5qZxDQtP8T"
      }
    },
    {
      "cell_type": "code",
      "execution_count": 32,
      "metadata": {
        "id": "iCWF1zvFrpja",
        "outputId": "fdcf1d77-f3d9-4972-d88b-65effbd1adeb",
        "colab": {
          "base_uri": "https://localhost:8080/"
        }
      },
      "outputs": [
        {
          "output_type": "execute_result",
          "data": {
            "text/plain": [
              "0.7325171197343846"
            ]
          },
          "metadata": {},
          "execution_count": 32
        }
      ],
      "source": [
        "from sklearn.metrics import f1_score\n",
        "\n",
        "f1_score(y_train_5, y_train_pred)"
      ]
    },
    {
      "cell_type": "code",
      "execution_count": 33,
      "metadata": {
        "id": "08fylpGhrpja",
        "outputId": "6590849b-930e-467c-d61c-12b52849880f",
        "colab": {
          "base_uri": "https://localhost:8080/"
        }
      },
      "outputs": [
        {
          "output_type": "execute_result",
          "data": {
            "text/plain": [
              "0.7325171197343847"
            ]
          },
          "metadata": {},
          "execution_count": 33
        }
      ],
      "source": [
        "# extra code – this cell also computes the f1 score\n",
        "cm[1, 1] / (cm[1, 1] + (cm[1, 0] + cm[0, 1]) / 2)"
      ]
    },
    {
      "cell_type": "markdown",
      "metadata": {
        "id": "1c3We5Nkrpjd"
      },
      "source": [
        "#### 3.3.4 The ROC Curve"
      ]
    },
    {
      "cell_type": "markdown",
      "source": [
        "**Before proceeding, what is the relationship between precision and recall?**\n",
        "\n",
        "<font color=\"blue\"> Precision and recall have a negative correlation, where if precision increases, recall decreases and vice versa.</font>"
      ],
      "metadata": {
        "id": "XZUviKqNuDyY"
      }
    },
    {
      "cell_type": "markdown",
      "source": [
        "The receiver operating characteristic (ROC) curve is another common tool used with binary classifiers. It is very similar to the precision/recall curve, but instead of plotting precision versus recall, the ROC curve plots the true positive rate (another name for recall) against the false positive rate. The FPR is the ratio of negative instances that are incorrectly classified as positive. It is equal to one minus the true negative rate, which is the ratio of negative instances that are correctly classified as negative. The TNR is also called specificity. Hence the ROC curve plots sensitivity (recall) versus 1 – specificity."
      ],
      "metadata": {
        "id": "oArmCLh7uBKe"
      }
    },
    {
      "cell_type": "code",
      "execution_count": 34,
      "metadata": {
        "id": "79M9atwdrpjd"
      },
      "outputs": [],
      "source": [
        "from sklearn.metrics import roc_curve\n",
        "\n",
        "y_scores = cross_val_predict(sgd_clf, X_train, y_train_5, cv=3,\n",
        "                             method=\"decision_function\")\n",
        "fpr, tpr, thresholds = roc_curve(y_train_5, y_scores)"
      ]
    },
    {
      "cell_type": "markdown",
      "source": [
        "**Question** Why do we need to compute for the fpr and tpr? What does the `roc_curve()` function do?\n",
        "\n",
        "<font color=\"blue\"> The false positive and true positive rate is useful in creating the ROC curve, which graphs the different rates in different threshold, where the threshold is the point where the model will decide either yes or no for binary classifiers</font>"
      ],
      "metadata": {
        "id": "FHTu0gumuhyt"
      }
    },
    {
      "cell_type": "code",
      "execution_count": 35,
      "metadata": {
        "id": "_i9Bu3NUrpjd",
        "outputId": "13b8dbd7-af9b-472f-fe20-9cd3e12ffda6",
        "colab": {
          "base_uri": "https://localhost:8080/",
          "height": 507
        }
      },
      "outputs": [
        {
          "output_type": "display_data",
          "data": {
            "text/plain": [
              "<Figure size 600x500 with 1 Axes>"
            ],
            "image/png": "[encoded data removed]"
          },
          "metadata": {}
        }
      ],
      "source": [
        "from matplotlib import patches\n",
        "\n",
        "threshold_for_90_precision = thresholds[np.argmax(fpr >= 0.90)]\n",
        "idx_for_threshold_at_90 = (thresholds <= threshold_for_90_precision).argmax()\n",
        "tpr_90, fpr_90 = tpr[idx_for_threshold_at_90], fpr[idx_for_threshold_at_90]\n",
        "\n",
        "plt.figure(figsize=(6, 5))  # extra code – not needed, just formatting\n",
        "plt.plot(fpr, tpr, linewidth=2, label=\"ROC curve\")\n",
        "plt.plot([0, 1], [0, 1], 'k:', label=\"Random classifier's ROC curve\")\n",
        "plt.plot([fpr_90], [tpr_90], \"ko\", label=\"Threshold for 90% precision\")\n",
        "\n",
        "# extra code – just beautifies and saves Figure 3–7\n",
        "plt.gca().add_patch(patches.FancyArrowPatch(\n",
        "    (0.20, 0.89), (0.07, 0.70),\n",
        "    connectionstyle=\"arc3,rad=.4\",\n",
        "    arrowstyle=\"Simple, tail_width=1.5, head_width=8, head_length=10\",\n",
        "    color=\"#444444\"))\n",
        "plt.text(0.12, 0.71, \"Higher\\nthreshold\", color=\"#333333\")\n",
        "plt.xlabel('False Positive Rate (Fall-Out)')\n",
        "plt.ylabel('True Positive Rate (Recall)')\n",
        "plt.grid()\n",
        "plt.axis([0, 1, 0, 1])\n",
        "plt.legend(loc=\"lower right\", fontsize=13)\n",
        "save_fig(\"roc_curve_plot\")\n",
        "\n",
        "plt.show()"
      ]
    },
    {
      "cell_type": "code",
      "execution_count": null,
      "metadata": {
        "id": "Z_PaoZhmrpjd",
        "outputId": "d55856dd-b747-415f-ae3a-c083941d5c60",
        "colab": {
          "base_uri": "https://localhost:8080/"
        }
      },
      "outputs": [
        {
          "output_type": "execute_result",
          "data": {
            "text/plain": [
              "0.9604938554008616"
            ]
          },
          "metadata": {},
          "execution_count": 39
        }
      ],
      "source": [
        "from sklearn.metrics import roc_auc_score\n",
        "\n",
        "roc_auc_score(y_train_5, y_scores)"
      ]
    },
    {
      "cell_type": "markdown",
      "source": [
        "**Question** Provide an analysis of this tradeoff between precision and recall.\n",
        "\n",
        "<font color=\"blue\"> Since a higher precision leads to a lower recall and vice versa, there is a need for us to select which one should we prioritize, with some applications needing a higher precision or others needing a higher recall.</font>"
      ],
      "metadata": {
        "id": "IsBeA6MBuy11"
      }
    },
    {
      "cell_type": "markdown",
      "metadata": {
        "id": "0N1p92_Erpjf"
      },
      "source": [
        "### 3.4 Multiclass Classification"
      ]
    },
    {
      "cell_type": "markdown",
      "metadata": {
        "id": "M7RYnEY-rpjf"
      },
      "source": [
        "Whereas binary classifiers distinguish between two classes, multiclass classifiers (also called multinomial classifiers) can distinguish between more than two classes.\n",
        "\n",
        "\n",
        "Some algorithms (such as Random Forest classifiers or naive Bayes classifiers) are capable of handling multiple classes directly. Others (such as Support Vector Machine classifiers or Linear classifiers) are strictly binary classifiers. However, there are vari‐ ous strategies that you can use to perform multiclass classification using multiple binary classifiers."
      ]
    },
    {
      "cell_type": "markdown",
      "source": [
        "**Question:** Some strategies used for multiclass classification is OvO and OvA. Briefly research and discuss what is OvO and OvA?\n",
        "\n",
        "<font color=\"blue\"> OvO is also called One vs One strategy where we create a binary classifier between each class (eg. class 1 vs class 2, class 2 vs class 3) and also select the one with the highest probability. OvA on the other hand is also known as One vs All strategy where we train one binary classifier for each class (eg. Class 1 vs Not Class 1) and select the one with the highest probability</font>"
      ],
      "metadata": {
        "id": "jmix4Z0TvoGN"
      }
    },
    {
      "cell_type": "markdown",
      "source": [
        "Scikit-Learn detects when you try to use a binary classification algorithm for a multiclass classification task, and it automatically runs OvA (except for SVM classifiers for which it uses OvO). Let’s try this with the SGDClassifier:"
      ],
      "metadata": {
        "id": "VASKY8WpwMLj"
      }
    },
    {
      "cell_type": "code",
      "execution_count": null,
      "metadata": {
        "id": "hxJUthaZrpjg",
        "outputId": "afc0046f-5d04-4781-d553-d6593d5403af",
        "colab": {
          "base_uri": "https://localhost:8080/"
        }
      },
      "outputs": [
        {
          "output_type": "execute_result",
          "data": {
            "text/plain": [
              "array([3], dtype=uint8)"
            ]
          },
          "metadata": {},
          "execution_count": 40
        }
      ],
      "source": [
        "sgd_clf = SGDClassifier(random_state=42)\n",
        "sgd_clf.fit(X_train, y_train)\n",
        "sgd_clf.predict([some_digit])"
      ]
    },
    {
      "cell_type": "code",
      "execution_count": null,
      "metadata": {
        "id": "2bo8utu1rpjg",
        "outputId": "645cb8e7-ab0f-4592-80b6-00d8691eaa0b",
        "colab": {
          "base_uri": "https://localhost:8080/"
        }
      },
      "outputs": [
        {
          "output_type": "execute_result",
          "data": {
            "text/plain": [
              "array([[-31893., -34420.,  -9531.,   1824., -22320.,  -1386., -26189.,\n",
              "        -16148.,  -4604., -12051.]])"
            ]
          },
          "metadata": {},
          "execution_count": 41
        }
      ],
      "source": [
        "sgd_clf.decision_function([some_digit]).round()"
      ]
    },
    {
      "cell_type": "markdown",
      "metadata": {
        "id": "jLvZB_jHrpjh"
      },
      "source": [
        "**Warning:** the following two cells may take a few minutes each to run:"
      ]
    },
    {
      "cell_type": "code",
      "execution_count": null,
      "metadata": {
        "id": "Uovc9P2Krpjh",
        "outputId": "a9bc9a48-46ee-4e64-e1c4-f74c9fda7d43",
        "colab": {
          "base_uri": "https://localhost:8080/"
        }
      },
      "outputs": [
        {
          "output_type": "execute_result",
          "data": {
            "text/plain": [
              "array([0.87365, 0.85835, 0.8689 ])"
            ]
          },
          "metadata": {},
          "execution_count": 42
        }
      ],
      "source": [
        "cross_val_score(sgd_clf, X_train, y_train, cv=3, scoring=\"accuracy\")"
      ]
    },
    {
      "cell_type": "code",
      "execution_count": null,
      "metadata": {
        "id": "Uf1rCpLErpjh",
        "outputId": "5d2a1fde-366e-4849-8eb0-9b00327ca0ce",
        "colab": {
          "base_uri": "https://localhost:8080/"
        }
      },
      "outputs": [
        {
          "output_type": "stream",
          "name": "stderr",
          "text": [
            "/usr/local/lib/python3.10/dist-packages/joblib/externals/loky/backend/fork_exec.py:38: RuntimeWarning: os.fork() was called. os.fork() is incompatible with multithreaded code, and JAX is multithreaded, so this will likely lead to a deadlock.\n",
            "  pid = os.fork()\n",
            "/usr/local/lib/python3.10/dist-packages/joblib/externals/loky/backend/fork_exec.py:38: RuntimeWarning: os.fork() was called. os.fork() is incompatible with multithreaded code, and JAX is multithreaded, so this will likely lead to a deadlock.\n",
            "  pid = os.fork()\n"
          ]
        },
        {
          "output_type": "execute_result",
          "data": {
            "text/plain": [
              "array([0.8983, 0.891 , 0.9018])"
            ]
          },
          "metadata": {},
          "execution_count": 43
        }
      ],
      "source": [
        "from sklearn.preprocessing import StandardScaler\n",
        "\n",
        "scaler = StandardScaler()\n",
        "X_train_scaled = scaler.fit_transform(X_train.astype(\"float64\"))\n",
        "cross_val_score(sgd_clf, X_train_scaled, y_train, cv=3, scoring=\"accuracy\", n_jobs=-1)"
      ]
    },
    {
      "cell_type": "markdown",
      "source": [
        "**Question**: What is your analysis of the result here? What happened to the SGDClassifier?\n",
        "\n",
        "Hypertune the parameters to achieve a 95% accuracy.\n",
        "\n",
        "<font color=\"blue\"> The first result shows an 85-87% accuracy, whereas if the data is scaled, the accuracy goes up to 89-90% accuracy. This suggests that SGDClassifier is sensitive to incorrectly scaled data (eg. One feature ranges from 0-10 whereas another feature ranges from 0-1000)</font>"
      ],
      "metadata": {
        "id": "XIYFvycnwVAp"
      }
    },
    {
      "cell_type": "code",
      "source": [
        "from sklearn.model_selection import GridSearchCV\n",
        "\n",
        "# SGDClassifier has different parameters which could help us achieve higher accuracy\n",
        "# https://scikit-learn.org/stable/modules/generated/sklearn.linear_model.SGDClassifier.html\n",
        "\n",
        "# We can use GridSearchCV to find the ideal parameters to get better results\n",
        "# https://scikit-learn.org/stable/modules/generated/sklearn.model_selection.GridSearchCV.html\n",
        "\n",
        "\n",
        "parameters = {\n",
        "    'loss' : ['log_loss'],\n",
        "    'alpha' : [0.001, 0.01],\n",
        "    'learning_rate' : ['adaptive'],\n",
        "    'max_iter' : [1000, 5000,10000],\n",
        "    'eta0' : [0.01, 0.1],\n",
        "    'early_stopping' : [True]\n",
        "}\n",
        "# I did not implement cross-validation as the computing time becomes too long\n",
        "search = GridSearchCV(sgd_clf, parameters, scoring='accuracy', cv=[(slice(None), slice(None))], n_jobs=-1, verbose=3)\n",
        "search.fit(X_train_scaled, y_train)"
      ],
      "metadata": {
        "colab": {
          "base_uri": "https://localhost:8080/",
          "height": 208
        },
        "id": "kZxwreGXrSXF",
        "outputId": "e8331205-1cb3-41ca-947c-8cbb626e4d4c"
      },
      "execution_count": null,
      "outputs": [
        {
          "output_type": "stream",
          "name": "stdout",
          "text": [
            "Fitting 1 folds for each of 12 candidates, totalling 12 fits\n"
          ]
        },
        {
          "output_type": "stream",
          "name": "stderr",
          "text": [
            "/usr/local/lib/python3.10/dist-packages/joblib/externals/loky/backend/fork_exec.py:38: RuntimeWarning: os.fork() was called. os.fork() is incompatible with multithreaded code, and JAX is multithreaded, so this will likely lead to a deadlock.\n",
            "  pid = os.fork()\n"
          ]
        },
        {
          "output_type": "execute_result",
          "data": {
            "text/plain": [
              "GridSearchCV(cv=[(slice(None, None, None), slice(None, None, None))],\n",
              "             estimator=SGDClassifier(random_state=0), n_jobs=-1,\n",
              "             param_grid={'alpha': [0.001, 0.01], 'early_stopping': [True],\n",
              "                         'eta0': [0.01, 0.1], 'learning_rate': ['adaptive'],\n",
              "                         'loss': ['log_loss'],\n",
              "                         'max_iter': [1000, 5000, 10000]},\n",
              "             scoring='accuracy', verbose=3)"
            ],
            "text/html": [
              "<style>#sk-container-id-4 {\n",
              "  /* Definition of color scheme common for light and dark mode */\n",
              "  --sklearn-color-text: black;\n",
              "  --sklearn-color-line: gray;\n",
              "  /* Definition of color scheme for unfitted estimators */\n",
              "  --sklearn-color-unfitted-level-0: #fff5e6;\n",
              "  --sklearn-color-unfitted-level-1: #f6e4d2;\n",
              "  --sklearn-color-unfitted-level-2: #ffe0b3;\n",
              "  --sklearn-color-unfitted-level-3: chocolate;\n",
              "  /* Definition of color scheme for fitted estimators */\n",
              "  --sklearn-color-fitted-level-0: #f0f8ff;\n",
              "  --sklearn-color-fitted-level-1: #d4ebff;\n",
              "  --sklearn-color-fitted-level-2: #b3dbfd;\n",
              "  --sklearn-color-fitted-level-3: cornflowerblue;\n",
              "\n",
              "  /* Specific color for light theme */\n",
              "  --sklearn-color-text-on-default-background: var(--sg-text-color, var(--theme-code-foreground, var(--jp-content-font-color1, black)));\n",
              "  --sklearn-color-background: var(--sg-background-color, var(--theme-background, var(--jp-layout-color0, white)));\n",
              "  --sklearn-color-border-box: var(--sg-text-color, var(--theme-code-foreground, var(--jp-content-font-color1, black)));\n",
              "  --sklearn-color-icon: #696969;\n",
              "\n",
              "  @media (prefers-color-scheme: dark) {\n",
              "    /* Redefinition of color scheme for dark theme */\n",
              "    --sklearn-color-text-on-default-background: var(--sg-text-color, var(--theme-code-foreground, var(--jp-content-font-color1, white)));\n",
              "    --sklearn-color-background: var(--sg-background-color, var(--theme-background, var(--jp-layout-color0, #111)));\n",
              "    --sklearn-color-border-box: var(--sg-text-color, var(--theme-code-foreground, var(--jp-content-font-color1, white)));\n",
              "    --sklearn-color-icon: #878787;\n",
              "  }\n",
              "}\n",
              "\n",
              "#sk-container-id-4 {\n",
              "  color: var(--sklearn-color-text);\n",
              "}\n",
              "\n",
              "#sk-container-id-4 pre {\n",
              "  padding: 0;\n",
              "}\n",
              "\n",
              "#sk-container-id-4 input.sk-hidden--visually {\n",
              "  border: 0;\n",
              "  clip: rect(1px 1px 1px 1px);\n",
              "  clip: rect(1px, 1px, 1px, 1px);\n",
              "  height: 1px;\n",
              "  margin: -1px;\n",
              "  overflow: hidden;\n",
              "  padding: 0;\n",
              "  position: absolute;\n",
              "  width: 1px;\n",
              "}\n",
              "\n",
              "#sk-container-id-4 div.sk-dashed-wrapped {\n",
              "  border: 1px dashed var(--sklearn-color-line);\n",
              "  margin: 0 0.4em 0.5em 0.4em;\n",
              "  box-sizing: border-box;\n",
              "  padding-bottom: 0.4em;\n",
              "  background-color: var(--sklearn-color-background);\n",
              "}\n",
              "\n",
              "#sk-container-id-4 div.sk-container {\n",
              "  /* jupyter's `normalize.less` sets `[hidden] { display: none; }`\n",
              "     but bootstrap.min.css set `[hidden] { display: none !important; }`\n",
              "     so we also need the `!important` here to be able to override the\n",
              "     default hidden behavior on the sphinx rendered scikit-learn.org.\n",
              "     See: https://github.com/scikit-learn/scikit-learn/issues/21755 */\n",
              "  display: inline-block !important;\n",
              "  position: relative;\n",
              "}\n",
              "\n",
              "#sk-container-id-4 div.sk-text-repr-fallback {\n",
              "  display: none;\n",
              "}\n",
              "\n",
              "div.sk-parallel-item,\n",
              "div.sk-serial,\n",
              "div.sk-item {\n",
              "  /* draw centered vertical line to link estimators */\n",
              "  background-image: linear-gradient(var(--sklearn-color-text-on-default-background), var(--sklearn-color-text-on-default-background));\n",
              "  background-size: 2px 100%;\n",
              "  background-repeat: no-repeat;\n",
              "  background-position: center center;\n",
              "}\n",
              "\n",
              "/* Parallel-specific style estimator block */\n",
              "\n",
              "#sk-container-id-4 div.sk-parallel-item::after {\n",
              "  content: \"\";\n",
              "  width: 100%;\n",
              "  border-bottom: 2px solid var(--sklearn-color-text-on-default-background);\n",
              "  flex-grow: 1;\n",
              "}\n",
              "\n",
              "#sk-container-id-4 div.sk-parallel {\n",
              "  display: flex;\n",
              "  align-items: stretch;\n",
              "  justify-content: center;\n",
              "  background-color: var(--sklearn-color-background);\n",
              "  position: relative;\n",
              "}\n",
              "\n",
              "#sk-container-id-4 div.sk-parallel-item {\n",
              "  display: flex;\n",
              "  flex-direction: column;\n",
              "}\n",
              "\n",
              "#sk-container-id-4 div.sk-parallel-item:first-child::after {\n",
              "  align-self: flex-end;\n",
              "  width: 50%;\n",
              "}\n",
              "\n",
              "#sk-container-id-4 div.sk-parallel-item:last-child::after {\n",
              "  align-self: flex-start;\n",
              "  width: 50%;\n",
              "}\n",
              "\n",
              "#sk-container-id-4 div.sk-parallel-item:only-child::after {\n",
              "  width: 0;\n",
              "}\n",
              "\n",
              "/* Serial-specific style estimator block */\n",
              "\n",
              "#sk-container-id-4 div.sk-serial {\n",
              "  display: flex;\n",
              "  flex-direction: column;\n",
              "  align-items: center;\n",
              "  background-color: var(--sklearn-color-background);\n",
              "  padding-right: 1em;\n",
              "  padding-left: 1em;\n",
              "}\n",
              "\n",
              "\n",
              "/* Toggleable style: style used for estimator/Pipeline/ColumnTransformer box that is\n",
              "clickable and can be expanded/collapsed.\n",
              "- Pipeline and ColumnTransformer use this feature and define the default style\n",
              "- Estimators will overwrite some part of the style using the `sk-estimator` class\n",
              "*/\n",
              "\n",
              "/* Pipeline and ColumnTransformer style (default) */\n",
              "\n",
              "#sk-container-id-4 div.sk-toggleable {\n",
              "  /* Default theme specific background. It is overwritten whether we have a\n",
              "  specific estimator or a Pipeline/ColumnTransformer */\n",
              "  background-color: var(--sklearn-color-background);\n",
              "}\n",
              "\n",
              "/* Toggleable label */\n",
              "#sk-container-id-4 label.sk-toggleable__label {\n",
              "  cursor: pointer;\n",
              "  display: block;\n",
              "  width: 100%;\n",
              "  margin-bottom: 0;\n",
              "  padding: 0.5em;\n",
              "  box-sizing: border-box;\n",
              "  text-align: center;\n",
              "}\n",
              "\n",
              "#sk-container-id-4 label.sk-toggleable__label-arrow:before {\n",
              "  /* Arrow on the left of the label */\n",
              "  content: \"▸\";\n",
              "  float: left;\n",
              "  margin-right: 0.25em;\n",
              "  color: var(--sklearn-color-icon);\n",
              "}\n",
              "\n",
              "#sk-container-id-4 label.sk-toggleable__label-arrow:hover:before {\n",
              "  color: var(--sklearn-color-text);\n",
              "}\n",
              "\n",
              "/* Toggleable content - dropdown */\n",
              "\n",
              "#sk-container-id-4 div.sk-toggleable__content {\n",
              "  max-height: 0;\n",
              "  max-width: 0;\n",
              "  overflow: hidden;\n",
              "  text-align: left;\n",
              "  /* unfitted */\n",
              "  background-color: var(--sklearn-color-unfitted-level-0);\n",
              "}\n",
              "\n",
              "#sk-container-id-4 div.sk-toggleable__content.fitted {\n",
              "  /* fitted */\n",
              "  background-color: var(--sklearn-color-fitted-level-0);\n",
              "}\n",
              "\n",
              "#sk-container-id-4 div.sk-toggleable__content pre {\n",
              "  margin: 0.2em;\n",
              "  border-radius: 0.25em;\n",
              "  color: var(--sklearn-color-text);\n",
              "  /* unfitted */\n",
              "  background-color: var(--sklearn-color-unfitted-level-0);\n",
              "}\n",
              "\n",
              "#sk-container-id-4 div.sk-toggleable__content.fitted pre {\n",
              "  /* unfitted */\n",
              "  background-color: var(--sklearn-color-fitted-level-0);\n",
              "}\n",
              "\n",
              "#sk-container-id-4 input.sk-toggleable__control:checked~div.sk-toggleable__content {\n",
              "  /* Expand drop-down */\n",
              "  max-height: 200px;\n",
              "  max-width: 100%;\n",
              "  overflow: auto;\n",
              "}\n",
              "\n",
              "#sk-container-id-4 input.sk-toggleable__control:checked~label.sk-toggleable__label-arrow:before {\n",
              "  content: \"▾\";\n",
              "}\n",
              "\n",
              "/* Pipeline/ColumnTransformer-specific style */\n",
              "\n",
              "#sk-container-id-4 div.sk-label input.sk-toggleable__control:checked~label.sk-toggleable__label {\n",
              "  color: var(--sklearn-color-text);\n",
              "  background-color: var(--sklearn-color-unfitted-level-2);\n",
              "}\n",
              "\n",
              "#sk-container-id-4 div.sk-label.fitted input.sk-toggleable__control:checked~label.sk-toggleable__label {\n",
              "  background-color: var(--sklearn-color-fitted-level-2);\n",
              "}\n",
              "\n",
              "/* Estimator-specific style */\n",
              "\n",
              "/* Colorize estimator box */\n",
              "#sk-container-id-4 div.sk-estimator input.sk-toggleable__control:checked~label.sk-toggleable__label {\n",
              "  /* unfitted */\n",
              "  background-color: var(--sklearn-color-unfitted-level-2);\n",
              "}\n",
              "\n",
              "#sk-container-id-4 div.sk-estimator.fitted input.sk-toggleable__control:checked~label.sk-toggleable__label {\n",
              "  /* fitted */\n",
              "  background-color: var(--sklearn-color-fitted-level-2);\n",
              "}\n",
              "\n",
              "#sk-container-id-4 div.sk-label label.sk-toggleable__label,\n",
              "#sk-container-id-4 div.sk-label label {\n",
              "  /* The background is the default theme color */\n",
              "  color: var(--sklearn-color-text-on-default-background);\n",
              "}\n",
              "\n",
              "/* On hover, darken the color of the background */\n",
              "#sk-container-id-4 div.sk-label:hover label.sk-toggleable__label {\n",
              "  color: var(--sklearn-color-text);\n",
              "  background-color: var(--sklearn-color-unfitted-level-2);\n",
              "}\n",
              "\n",
              "/* Label box, darken color on hover, fitted */\n",
              "#sk-container-id-4 div.sk-label.fitted:hover label.sk-toggleable__label.fitted {\n",
              "  color: var(--sklearn-color-text);\n",
              "  background-color: var(--sklearn-color-fitted-level-2);\n",
              "}\n",
              "\n",
              "/* Estimator label */\n",
              "\n",
              "#sk-container-id-4 div.sk-label label {\n",
              "  font-family: monospace;\n",
              "  font-weight: bold;\n",
              "  display: inline-block;\n",
              "  line-height: 1.2em;\n",
              "}\n",
              "\n",
              "#sk-container-id-4 div.sk-label-container {\n",
              "  text-align: center;\n",
              "}\n",
              "\n",
              "/* Estimator-specific */\n",
              "#sk-container-id-4 div.sk-estimator {\n",
              "  font-family: monospace;\n",
              "  border: 1px dotted var(--sklearn-color-border-box);\n",
              "  border-radius: 0.25em;\n",
              "  box-sizing: border-box;\n",
              "  margin-bottom: 0.5em;\n",
              "  /* unfitted */\n",
              "  background-color: var(--sklearn-color-unfitted-level-0);\n",
              "}\n",
              "\n",
              "#sk-container-id-4 div.sk-estimator.fitted {\n",
              "  /* fitted */\n",
              "  background-color: var(--sklearn-color-fitted-level-0);\n",
              "}\n",
              "\n",
              "/* on hover */\n",
              "#sk-container-id-4 div.sk-estimator:hover {\n",
              "  /* unfitted */\n",
              "  background-color: var(--sklearn-color-unfitted-level-2);\n",
              "}\n",
              "\n",
              "#sk-container-id-4 div.sk-estimator.fitted:hover {\n",
              "  /* fitted */\n",
              "  background-color: var(--sklearn-color-fitted-level-2);\n",
              "}\n",
              "\n",
              "/* Specification for estimator info (e.g. \"i\" and \"?\") */\n",
              "\n",
              "/* Common style for \"i\" and \"?\" */\n",
              "\n",
              ".sk-estimator-doc-link,\n",
              "a:link.sk-estimator-doc-link,\n",
              "a:visited.sk-estimator-doc-link {\n",
              "  float: right;\n",
              "  font-size: smaller;\n",
              "  line-height: 1em;\n",
              "  font-family: monospace;\n",
              "  background-color: var(--sklearn-color-background);\n",
              "  border-radius: 1em;\n",
              "  height: 1em;\n",
              "  width: 1em;\n",
              "  text-decoration: none !important;\n",
              "  margin-left: 1ex;\n",
              "  /* unfitted */\n",
              "  border: var(--sklearn-color-unfitted-level-1) 1pt solid;\n",
              "  color: var(--sklearn-color-unfitted-level-1);\n",
              "}\n",
              "\n",
              ".sk-estimator-doc-link.fitted,\n",
              "a:link.sk-estimator-doc-link.fitted,\n",
              "a:visited.sk-estimator-doc-link.fitted {\n",
              "  /* fitted */\n",
              "  border: var(--sklearn-color-fitted-level-1) 1pt solid;\n",
              "  color: var(--sklearn-color-fitted-level-1);\n",
              "}\n",
              "\n",
              "/* On hover */\n",
              "div.sk-estimator:hover .sk-estimator-doc-link:hover,\n",
              ".sk-estimator-doc-link:hover,\n",
              "div.sk-label-container:hover .sk-estimator-doc-link:hover,\n",
              ".sk-estimator-doc-link:hover {\n",
              "  /* unfitted */\n",
              "  background-color: var(--sklearn-color-unfitted-level-3);\n",
              "  color: var(--sklearn-color-background);\n",
              "  text-decoration: none;\n",
              "}\n",
              "\n",
              "div.sk-estimator.fitted:hover .sk-estimator-doc-link.fitted:hover,\n",
              ".sk-estimator-doc-link.fitted:hover,\n",
              "div.sk-label-container:hover .sk-estimator-doc-link.fitted:hover,\n",
              ".sk-estimator-doc-link.fitted:hover {\n",
              "  /* fitted */\n",
              "  background-color: var(--sklearn-color-fitted-level-3);\n",
              "  color: var(--sklearn-color-background);\n",
              "  text-decoration: none;\n",
              "}\n",
              "\n",
              "/* Span, style for the box shown on hovering the info icon */\n",
              ".sk-estimator-doc-link span {\n",
              "  display: none;\n",
              "  z-index: 9999;\n",
              "  position: relative;\n",
              "  font-weight: normal;\n",
              "  right: .2ex;\n",
              "  padding: .5ex;\n",
              "  margin: .5ex;\n",
              "  width: min-content;\n",
              "  min-width: 20ex;\n",
              "  max-width: 50ex;\n",
              "  color: var(--sklearn-color-text);\n",
              "  box-shadow: 2pt 2pt 4pt #999;\n",
              "  /* unfitted */\n",
              "  background: var(--sklearn-color-unfitted-level-0);\n",
              "  border: .5pt solid var(--sklearn-color-unfitted-level-3);\n",
              "}\n",
              "\n",
              ".sk-estimator-doc-link.fitted span {\n",
              "  /* fitted */\n",
              "  background: var(--sklearn-color-fitted-level-0);\n",
              "  border: var(--sklearn-color-fitted-level-3);\n",
              "}\n",
              "\n",
              ".sk-estimator-doc-link:hover span {\n",
              "  display: block;\n",
              "}\n",
              "\n",
              "/* \"?\"-specific style due to the `<a>` HTML tag */\n",
              "\n",
              "#sk-container-id-4 a.estimator_doc_link {\n",
              "  float: right;\n",
              "  font-size: 1rem;\n",
              "  line-height: 1em;\n",
              "  font-family: monospace;\n",
              "  background-color: var(--sklearn-color-background);\n",
              "  border-radius: 1rem;\n",
              "  height: 1rem;\n",
              "  width: 1rem;\n",
              "  text-decoration: none;\n",
              "  /* unfitted */\n",
              "  color: var(--sklearn-color-unfitted-level-1);\n",
              "  border: var(--sklearn-color-unfitted-level-1) 1pt solid;\n",
              "}\n",
              "\n",
              "#sk-container-id-4 a.estimator_doc_link.fitted {\n",
              "  /* fitted */\n",
              "  border: var(--sklearn-color-fitted-level-1) 1pt solid;\n",
              "  color: var(--sklearn-color-fitted-level-1);\n",
              "}\n",
              "\n",
              "/* On hover */\n",
              "#sk-container-id-4 a.estimator_doc_link:hover {\n",
              "  /* unfitted */\n",
              "  background-color: var(--sklearn-color-unfitted-level-3);\n",
              "  color: var(--sklearn-color-background);\n",
              "  text-decoration: none;\n",
              "}\n",
              "\n",
              "#sk-container-id-4 a.estimator_doc_link.fitted:hover {\n",
              "  /* fitted */\n",
              "  background-color: var(--sklearn-color-fitted-level-3);\n",
              "}\n",
              "</style><div id=\"sk-container-id-4\" class=\"sk-top-container\"><div class=\"sk-text-repr-fallback\"><pre>GridSearchCV(cv=[(slice(None, None, None), slice(None, None, None))],\n",
              "             estimator=SGDClassifier(random_state=0), n_jobs=-1,\n",
              "             param_grid={&#x27;alpha&#x27;: [0.001, 0.01], &#x27;early_stopping&#x27;: [True],\n",
              "                         &#x27;eta0&#x27;: [0.01, 0.1], &#x27;learning_rate&#x27;: [&#x27;adaptive&#x27;],\n",
              "                         &#x27;loss&#x27;: [&#x27;log_loss&#x27;],\n",
              "                         &#x27;max_iter&#x27;: [1000, 5000, 10000]},\n",
              "             scoring=&#x27;accuracy&#x27;, verbose=3)</pre><b>In a Jupyter environment, please rerun this cell to show the HTML representation or trust the notebook. <br />On GitHub, the HTML representation is unable to render, please try loading this page with nbviewer.org.</b></div><div class=\"sk-container\" hidden><div class=\"sk-item sk-dashed-wrapped\"><div class=\"sk-label-container\"><div class=\"sk-label fitted sk-toggleable\"><input class=\"sk-toggleable__control sk-hidden--visually\" id=\"sk-estimator-id-6\" type=\"checkbox\" ><label for=\"sk-estimator-id-6\" class=\"sk-toggleable__label fitted sk-toggleable__label-arrow fitted\">&nbsp;&nbsp;GridSearchCV<a class=\"sk-estimator-doc-link fitted\" rel=\"noreferrer\" target=\"_blank\" href=\"https://scikit-learn.org/1.5/modules/generated/sklearn.model_selection.GridSearchCV.html\">?<span>Documentation for GridSearchCV</span></a><span class=\"sk-estimator-doc-link fitted\">i<span>Fitted</span></span></label><div class=\"sk-toggleable__content fitted\"><pre>GridSearchCV(cv=[(slice(None, None, None), slice(None, None, None))],\n",
              "             estimator=SGDClassifier(random_state=0), n_jobs=-1,\n",
              "             param_grid={&#x27;alpha&#x27;: [0.001, 0.01], &#x27;early_stopping&#x27;: [True],\n",
              "                         &#x27;eta0&#x27;: [0.01, 0.1], &#x27;learning_rate&#x27;: [&#x27;adaptive&#x27;],\n",
              "                         &#x27;loss&#x27;: [&#x27;log_loss&#x27;],\n",
              "                         &#x27;max_iter&#x27;: [1000, 5000, 10000]},\n",
              "             scoring=&#x27;accuracy&#x27;, verbose=3)</pre></div> </div></div><div class=\"sk-parallel\"><div class=\"sk-parallel-item\"><div class=\"sk-item\"><div class=\"sk-label-container\"><div class=\"sk-label fitted sk-toggleable\"><input class=\"sk-toggleable__control sk-hidden--visually\" id=\"sk-estimator-id-7\" type=\"checkbox\" ><label for=\"sk-estimator-id-7\" class=\"sk-toggleable__label fitted sk-toggleable__label-arrow fitted\">best_estimator_: SGDClassifier</label><div class=\"sk-toggleable__content fitted\"><pre>SGDClassifier(alpha=0.001, early_stopping=True, eta0=0.01,\n",
              "              learning_rate=&#x27;adaptive&#x27;, loss=&#x27;log_loss&#x27;, random_state=0)</pre></div> </div></div><div class=\"sk-serial\"><div class=\"sk-item\"><div class=\"sk-estimator fitted sk-toggleable\"><input class=\"sk-toggleable__control sk-hidden--visually\" id=\"sk-estimator-id-8\" type=\"checkbox\" ><label for=\"sk-estimator-id-8\" class=\"sk-toggleable__label fitted sk-toggleable__label-arrow fitted\">&nbsp;SGDClassifier<a class=\"sk-estimator-doc-link fitted\" rel=\"noreferrer\" target=\"_blank\" href=\"https://scikit-learn.org/1.5/modules/generated/sklearn.linear_model.SGDClassifier.html\">?<span>Documentation for SGDClassifier</span></a></label><div class=\"sk-toggleable__content fitted\"><pre>SGDClassifier(alpha=0.001, early_stopping=True, eta0=0.01,\n",
              "              learning_rate=&#x27;adaptive&#x27;, loss=&#x27;log_loss&#x27;, random_state=0)</pre></div> </div></div></div></div></div></div></div></div></div>"
            ]
          },
          "metadata": {},
          "execution_count": 72
        }
      ]
    },
    {
      "cell_type": "code",
      "source": [
        "print('GridSearch CV best score: {:.4f}\\n\\n'.format(search.best_score_))"
      ],
      "metadata": {
        "colab": {
          "base_uri": "https://localhost:8080/"
        },
        "id": "SzBFy9RIbNE6",
        "outputId": "64f76a46-a0b2-4fcd-8699-a57fbe96bad0"
      },
      "execution_count": null,
      "outputs": [
        {
          "output_type": "stream",
          "name": "stdout",
          "text": [
            "GridSearch CV best score: 0.9700\n",
            "\n",
            "\n"
          ]
        }
      ]
    },
    {
      "cell_type": "code",
      "source": [
        "print('Parameters that give the best results: \\n\\n',(search.best_params_))"
      ],
      "metadata": {
        "colab": {
          "base_uri": "https://localhost:8080/"
        },
        "id": "JFa5yATF6LQS",
        "outputId": "3b8946d6-7521-4370-df4b-70facc6a76f8"
      },
      "execution_count": null,
      "outputs": [
        {
          "output_type": "stream",
          "name": "stdout",
          "text": [
            "Parameters that give the best results: \n",
            "\n",
            " {'alpha': 0.001, 'early_stopping': True, 'eta0': 0.01, 'learning_rate': 'adaptive', 'loss': 'log_loss', 'max_iter': 1000}\n"
          ]
        }
      ]
    },
    {
      "cell_type": "markdown",
      "source": [
        "## 4. Supplementary Activity"
      ],
      "metadata": {
        "id": "Mkyd0KjtGl79"
      }
    },
    {
      "cell_type": "markdown",
      "source": [
        "Solve the following exercise:\n",
        "\n",
        "1. Create your own dataset using your own handwriting.\n",
        "2. Train the same model that was used in section 3 with your own dataset, observe the result.\n",
        "3. How does MNIST dataset perform on your handwriting?\n",
        "4. How does your custom dataset perform on any digit from the MNIST dataset?\n",
        "\n",
        "Provide an analysis that provides an overview of the multiclass classification metrics."
      ],
      "metadata": {
        "id": "S1OibM2I8KuW"
      }
    },
    {
      "cell_type": "code",
      "source": [
        "import cv2\n",
        "import matplotlib.pyplot as plt\n",
        "import numpy as np\n",
        "import pandas as pd\n",
        "\n",
        "images = []\n",
        "idx = 0\n",
        "for i in range(0, 10):\n",
        "  for j in range(0,10):\n",
        "    idx+=1\n",
        "    image = cv2.imread('/content/supplementary_images/'+str(i)+'_'+str(j)+'.png', cv2.IMREAD_GRAYSCALE)\n",
        "    image_resized = cv2.resize(image, (28,28))\n",
        "    image_resized = cv2.bitwise_not(image_resized)\n",
        "    images.append(image_resized)\n",
        "    plt.subplot(10, 10, idx)\n",
        "    plt.axis('off')\n",
        "    plt.imshow(image, cmap='binary')"
      ],
      "metadata": {
        "colab": {
          "base_uri": "https://localhost:8080/",
          "height": 406
        },
        "id": "5HhS4WzDcAyl",
        "outputId": "0a9d233f-af1b-4886-cec5-bcf5d26c45a7"
      },
      "execution_count": 36,
      "outputs": [
        {
          "output_type": "display_data",
          "data": {
            "text/plain": [
              "<Figure size 640x480 with 100 Axes>"
            ],
            "image/png": "[encoded data removed]"
          },
          "metadata": {}
        }
      ]
    },
    {
      "cell_type": "code",
      "source": [
        "df = pd.DataFrame()\n",
        "for image in images:\n",
        "  data = image.flatten()\n",
        "  data_series = pd.Series(data)\n",
        "  df = pd.concat([df, data_series.to_frame().T], ignore_index=True)\n",
        "df"
      ],
      "metadata": {
        "colab": {
          "base_uri": "https://localhost:8080/",
          "height": 424
        },
        "id": "qFFYrwTpcFu-",
        "outputId": "6a8f3c09-c59c-424b-9065-466e23ab2e81"
      },
      "execution_count": 37,
      "outputs": [
        {
          "output_type": "execute_result",
          "data": {
            "text/plain": [
              "    0    1    2    3    4    5    6    7    8    9    ...  774  775  776  777  \\\n",
              "0     0    0    0    0    0    0    0    0    0    0  ...    0    0    0    0   \n",
              "1     0    0    0    0    0    0    0    0    0    0  ...    0    0    0    0   \n",
              "2     0    0    0    0    0    0    0    0    0    0  ...    0    0    0    0   \n",
              "3     0    0    0    0    0    0    0    0    0    0  ...    0    0    0    0   \n",
              "4     0    0    0    0    0    0    0    0    0    0  ...    0    0    0    0   \n",
              "..  ...  ...  ...  ...  ...  ...  ...  ...  ...  ...  ...  ...  ...  ...  ...   \n",
              "95    0    0    0    0    0    0    0    0    0    0  ...    0    0    0    0   \n",
              "96    0    0    0    0    0    0    0    0    0    0  ...    0    0    0    0   \n",
              "97    0    0    0    0    0    0    0    0    0    0  ...    0    0    0    0   \n",
              "98    0    0    0    0    0    0    0    0    0    0  ...    0    0    0    0   \n",
              "99    0    0    0    0    0    0    0    0    0    0  ...    0    0    0    0   \n",
              "\n",
              "    778  779  780  781  782  783  \n",
              "0     0    0    0    0    0    0  \n",
              "1     0    0    0    0    0    0  \n",
              "2     0    0    0    0    0    0  \n",
              "3     0    0    0    0    0    0  \n",
              "4     0    0    0    0    0    0  \n",
              "..  ...  ...  ...  ...  ...  ...  \n",
              "95    0    0    0    0    0    0  \n",
              "96    0    0    0    0    0    0  \n",
              "97    0    0    0    0    0    0  \n",
              "98    0    0    0    0    0    0  \n",
              "99    0    0    0    0    0    0  \n",
              "\n",
              "[100 rows x 784 columns]"
            ],
            "text/html": [
              "\n",
              "  <div id=\"df-3e8fb9c6-2f76-49fb-8f40-98ed58ffe345\" class=\"colab-df-container\">\n",
              "    <div>\n",
              "<style scoped>\n",
              "    .dataframe tbody tr th:only-of-type {\n",
              "        vertical-align: middle;\n",
              "    }\n",
              "\n",
              "    .dataframe tbody tr th {\n",
              "        vertical-align: top;\n",
              "    }\n",
              "\n",
              "    .dataframe thead th {\n",
              "        text-align: right;\n",
              "    }\n",
              "</style>\n",
              "<table border=\"1\" class=\"dataframe\">\n",
              "  <thead>\n",
              "    <tr style=\"text-align: right;\">\n",
              "      <th></th>\n",
              "      <th>0</th>\n",
              "      <th>1</th>\n",
              "      <th>2</th>\n",
              "      <th>3</th>\n",
              "      <th>4</th>\n",
              "      <th>5</th>\n",
              "      <th>6</th>\n",
              "      <th>7</th>\n",
              "      <th>8</th>\n",
              "      <th>9</th>\n",
              "      <th>...</th>\n",
              "      <th>774</th>\n",
              "      <th>775</th>\n",
              "      <th>776</th>\n",
              "      <th>777</th>\n",
              "      <th>778</th>\n",
              "      <th>779</th>\n",
              "      <th>780</th>\n",
              "      <th>781</th>\n",
              "      <th>782</th>\n",
              "      <th>783</th>\n",
              "    </tr>\n",
              "  </thead>\n",
              "  <tbody>\n",
              "    <tr>\n",
              "      <th>0</th>\n",
              "      <td>0</td>\n",
              "      <td>0</td>\n",
              "      <td>0</td>\n",
              "      <td>0</td>\n",
              "      <td>0</td>\n",
              "      <td>0</td>\n",
              "      <td>0</td>\n",
              "      <td>0</td>\n",
              "      <td>0</td>\n",
              "      <td>0</td>\n",
              "      <td>...</td>\n",
              "      <td>0</td>\n",
              "      <td>0</td>\n",
              "      <td>0</td>\n",
              "      <td>0</td>\n",
              "      <td>0</td>\n",
              "      <td>0</td>\n",
              "      <td>0</td>\n",
              "      <td>0</td>\n",
              "      <td>0</td>\n",
              "      <td>0</td>\n",
              "    </tr>\n",
              "    <tr>\n",
              "      <th>1</th>\n",
              "      <td>0</td>\n",
              "      <td>0</td>\n",
              "      <td>0</td>\n",
              "      <td>0</td>\n",
              "      <td>0</td>\n",
              "      <td>0</td>\n",
              "      <td>0</td>\n",
              "      <td>0</td>\n",
              "      <td>0</td>\n",
              "      <td>0</td>\n",
              "      <td>...</td>\n",
              "      <td>0</td>\n",
              "      <td>0</td>\n",
              "      <td>0</td>\n",
              "      <td>0</td>\n",
              "      <td>0</td>\n",
              "      <td>0</td>\n",
              "      <td>0</td>\n",
              "      <td>0</td>\n",
              "      <td>0</td>\n",
              "      <td>0</td>\n",
              "    </tr>\n",
              "    <tr>\n",
              "      <th>2</th>\n",
              "      <td>0</td>\n",
              "      <td>0</td>\n",
              "      <td>0</td>\n",
              "      <td>0</td>\n",
              "      <td>0</td>\n",
              "      <td>0</td>\n",
              "      <td>0</td>\n",
              "      <td>0</td>\n",
              "      <td>0</td>\n",
              "      <td>0</td>\n",
              "      <td>...</td>\n",
              "      <td>0</td>\n",
              "      <td>0</td>\n",
              "      <td>0</td>\n",
              "      <td>0</td>\n",
              "      <td>0</td>\n",
              "      <td>0</td>\n",
              "      <td>0</td>\n",
              "      <td>0</td>\n",
              "      <td>0</td>\n",
              "      <td>0</td>\n",
              "    </tr>\n",
              "    <tr>\n",
              "      <th>3</th>\n",
              "      <td>0</td>\n",
              "      <td>0</td>\n",
              "      <td>0</td>\n",
              "      <td>0</td>\n",
              "      <td>0</td>\n",
              "      <td>0</td>\n",
              "      <td>0</td>\n",
              "      <td>0</td>\n",
              "      <td>0</td>\n",
              "      <td>0</td>\n",
              "      <td>...</td>\n",
              "      <td>0</td>\n",
              "      <td>0</td>\n",
              "      <td>0</td>\n",
              "      <td>0</td>\n",
              "      <td>0</td>\n",
              "      <td>0</td>\n",
              "      <td>0</td>\n",
              "      <td>0</td>\n",
              "      <td>0</td>\n",
              "      <td>0</td>\n",
              "    </tr>\n",
              "    <tr>\n",
              "      <th>4</th>\n",
              "      <td>0</td>\n",
              "      <td>0</td>\n",
              "      <td>0</td>\n",
              "      <td>0</td>\n",
              "      <td>0</td>\n",
              "      <td>0</td>\n",
              "      <td>0</td>\n",
              "      <td>0</td>\n",
              "      <td>0</td>\n",
              "      <td>0</td>\n",
              "      <td>...</td>\n",
              "      <td>0</td>\n",
              "      <td>0</td>\n",
              "      <td>0</td>\n",
              "      <td>0</td>\n",
              "      <td>0</td>\n",
              "      <td>0</td>\n",
              "      <td>0</td>\n",
              "      <td>0</td>\n",
              "      <td>0</td>\n",
              "      <td>0</td>\n",
              "    </tr>\n",
              "    <tr>\n",
              "      <th>...</th>\n",
              "      <td>...</td>\n",
              "      <td>...</td>\n",
              "      <td>...</td>\n",
              "      <td>...</td>\n",
              "      <td>...</td>\n",
              "      <td>...</td>\n",
              "      <td>...</td>\n",
              "      <td>...</td>\n",
              "      <td>...</td>\n",
              "      <td>...</td>\n",
              "      <td>...</td>\n",
              "      <td>...</td>\n",
              "      <td>...</td>\n",
              "      <td>...</td>\n",
              "      <td>...</td>\n",
              "      <td>...</td>\n",
              "      <td>...</td>\n",
              "      <td>...</td>\n",
              "      <td>...</td>\n",
              "      <td>...</td>\n",
              "      <td>...</td>\n",
              "    </tr>\n",
              "    <tr>\n",
              "      <th>95</th>\n",
              "      <td>0</td>\n",
              "      <td>0</td>\n",
              "      <td>0</td>\n",
              "      <td>0</td>\n",
              "      <td>0</td>\n",
              "      <td>0</td>\n",
              "      <td>0</td>\n",
              "      <td>0</td>\n",
              "      <td>0</td>\n",
              "      <td>0</td>\n",
              "      <td>...</td>\n",
              "      <td>0</td>\n",
              "      <td>0</td>\n",
              "      <td>0</td>\n",
              "      <td>0</td>\n",
              "      <td>0</td>\n",
              "      <td>0</td>\n",
              "      <td>0</td>\n",
              "      <td>0</td>\n",
              "      <td>0</td>\n",
              "      <td>0</td>\n",
              "    </tr>\n",
              "    <tr>\n",
              "      <th>96</th>\n",
              "      <td>0</td>\n",
              "      <td>0</td>\n",
              "      <td>0</td>\n",
              "      <td>0</td>\n",
              "      <td>0</td>\n",
              "      <td>0</td>\n",
              "      <td>0</td>\n",
              "      <td>0</td>\n",
              "      <td>0</td>\n",
              "      <td>0</td>\n",
              "      <td>...</td>\n",
              "      <td>0</td>\n",
              "      <td>0</td>\n",
              "      <td>0</td>\n",
              "      <td>0</td>\n",
              "      <td>0</td>\n",
              "      <td>0</td>\n",
              "      <td>0</td>\n",
              "      <td>0</td>\n",
              "      <td>0</td>\n",
              "      <td>0</td>\n",
              "    </tr>\n",
              "    <tr>\n",
              "      <th>97</th>\n",
              "      <td>0</td>\n",
              "      <td>0</td>\n",
              "      <td>0</td>\n",
              "      <td>0</td>\n",
              "      <td>0</td>\n",
              "      <td>0</td>\n",
              "      <td>0</td>\n",
              "      <td>0</td>\n",
              "      <td>0</td>\n",
              "      <td>0</td>\n",
              "      <td>...</td>\n",
              "      <td>0</td>\n",
              "      <td>0</td>\n",
              "      <td>0</td>\n",
              "      <td>0</td>\n",
              "      <td>0</td>\n",
              "      <td>0</td>\n",
              "      <td>0</td>\n",
              "      <td>0</td>\n",
              "      <td>0</td>\n",
              "      <td>0</td>\n",
              "    </tr>\n",
              "    <tr>\n",
              "      <th>98</th>\n",
              "      <td>0</td>\n",
              "      <td>0</td>\n",
              "      <td>0</td>\n",
              "      <td>0</td>\n",
              "      <td>0</td>\n",
              "      <td>0</td>\n",
              "      <td>0</td>\n",
              "      <td>0</td>\n",
              "      <td>0</td>\n",
              "      <td>0</td>\n",
              "      <td>...</td>\n",
              "      <td>0</td>\n",
              "      <td>0</td>\n",
              "      <td>0</td>\n",
              "      <td>0</td>\n",
              "      <td>0</td>\n",
              "      <td>0</td>\n",
              "      <td>0</td>\n",
              "      <td>0</td>\n",
              "      <td>0</td>\n",
              "      <td>0</td>\n",
              "    </tr>\n",
              "    <tr>\n",
              "      <th>99</th>\n",
              "      <td>0</td>\n",
              "      <td>0</td>\n",
              "      <td>0</td>\n",
              "      <td>0</td>\n",
              "      <td>0</td>\n",
              "      <td>0</td>\n",
              "      <td>0</td>\n",
              "      <td>0</td>\n",
              "      <td>0</td>\n",
              "      <td>0</td>\n",
              "      <td>...</td>\n",
              "      <td>0</td>\n",
              "      <td>0</td>\n",
              "      <td>0</td>\n",
              "      <td>0</td>\n",
              "      <td>0</td>\n",
              "      <td>0</td>\n",
              "      <td>0</td>\n",
              "      <td>0</td>\n",
              "      <td>0</td>\n",
              "      <td>0</td>\n",
              "    </tr>\n",
              "  </tbody>\n",
              "</table>\n",
              "<p>100 rows × 784 columns</p>\n",
              "</div>\n",
              "    <div class=\"colab-df-buttons\">\n",
              "\n",
              "  <div class=\"colab-df-container\">\n",
              "    <button class=\"colab-df-convert\" onclick=\"convertToInteractive('df-3e8fb9c6-2f76-49fb-8f40-98ed58ffe345')\"\n",
              "            title=\"Convert this dataframe to an interactive table.\"\n",
              "            style=\"display:none;\">\n",
              "\n",
              "  <svg xmlns=\"http://www.w3.org/2000/svg\" height=\"24px\" viewBox=\"0 -960 960 960\">\n",
              "    <path d=\"M120-120v-720h720v720H120Zm60-500h600v-160H180v160Zm220 220h160v-160H400v160Zm0 220h160v-160H400v160ZM180-400h160v-160H180v160Zm440 0h160v-160H620v160ZM180-180h160v-160H180v160Zm440 0h160v-160H620v160Z\"/>\n",
              "  </svg>\n",
              "    </button>\n",
              "\n",
              "  <style>\n",
              "    .colab-df-container {\n",
              "      display:flex;\n",
              "      gap: 12px;\n",
              "    }\n",
              "\n",
              "    .colab-df-convert {\n",
              "      background-color: #E8F0FE;\n",
              "      border: none;\n",
              "      border-radius: 50%;\n",
              "      cursor: pointer;\n",
              "      display: none;\n",
              "      fill: #1967D2;\n",
              "      height: 32px;\n",
              "      padding: 0 0 0 0;\n",
              "      width: 32px;\n",
              "    }\n",
              "\n",
              "    .colab-df-convert:hover {\n",
              "      background-color: #E2EBFA;\n",
              "      box-shadow: 0px 1px 2px rgba(60, 64, 67, 0.3), 0px 1px 3px 1px rgba(60, 64, 67, 0.15);\n",
              "      fill: #174EA6;\n",
              "    }\n",
              "\n",
              "    .colab-df-buttons div {\n",
              "      margin-bottom: 4px;\n",
              "    }\n",
              "\n",
              "    [theme=dark] .colab-df-convert {\n",
              "      background-color: #3B4455;\n",
              "      fill: #D2E3FC;\n",
              "    }\n",
              "\n",
              "    [theme=dark] .colab-df-convert:hover {\n",
              "      background-color: #434B5C;\n",
              "      box-shadow: 0px 1px 3px 1px rgba(0, 0, 0, 0.15);\n",
              "      filter: drop-shadow(0px 1px 2px rgba(0, 0, 0, 0.3));\n",
              "      fill: #FFFFFF;\n",
              "    }\n",
              "  </style>\n",
              "\n",
              "    <script>\n",
              "      const buttonEl =\n",
              "        document.querySelector('#df-3e8fb9c6-2f76-49fb-8f40-98ed58ffe345 button.colab-df-convert');\n",
              "      buttonEl.style.display =\n",
              "        google.colab.kernel.accessAllowed ? 'block' : 'none';\n",
              "\n",
              "      async function convertToInteractive(key) {\n",
              "        const element = document.querySelector('#df-3e8fb9c6-2f76-49fb-8f40-98ed58ffe345');\n",
              "        const dataTable =\n",
              "          await google.colab.kernel.invokeFunction('convertToInteractive',\n",
              "                                                    [key], {});\n",
              "        if (!dataTable) return;\n",
              "\n",
              "        const docLinkHtml = 'Like what you see? Visit the ' +\n",
              "          '<a target=\"_blank\" href=https://colab.research.google.com/notebooks/data_table.ipynb>data table notebook</a>'\n",
              "          + ' to learn more about interactive tables.';\n",
              "        element.innerHTML = '';\n",
              "        dataTable['output_type'] = 'display_data';\n",
              "        await google.colab.output.renderOutput(dataTable, element);\n",
              "        const docLink = document.createElement('div');\n",
              "        docLink.innerHTML = docLinkHtml;\n",
              "        element.appendChild(docLink);\n",
              "      }\n",
              "    </script>\n",
              "  </div>\n",
              "\n",
              "\n",
              "<div id=\"df-959f9e6b-8c14-4596-a3a6-175bcfa7b7b7\">\n",
              "  <button class=\"colab-df-quickchart\" onclick=\"quickchart('df-959f9e6b-8c14-4596-a3a6-175bcfa7b7b7')\"\n",
              "            title=\"Suggest charts\"\n",
              "            style=\"display:none;\">\n",
              "\n",
              "<svg xmlns=\"http://www.w3.org/2000/svg\" height=\"24px\"viewBox=\"0 0 24 24\"\n",
              "     width=\"24px\">\n",
              "    <g>\n",
              "        <path d=\"M19 3H5c-1.1 0-2 .9-2 2v14c0 1.1.9 2 2 2h14c1.1 0 2-.9 2-2V5c0-1.1-.9-2-2-2zM9 17H7v-7h2v7zm4 0h-2V7h2v10zm4 0h-2v-4h2v4z\"/>\n",
              "    </g>\n",
              "</svg>\n",
              "  </button>\n",
              "\n",
              "<style>\n",
              "  .colab-df-quickchart {\n",
              "      --bg-color: #E8F0FE;\n",
              "      --fill-color: #1967D2;\n",
              "      --hover-bg-color: #E2EBFA;\n",
              "      --hover-fill-color: #174EA6;\n",
              "      --disabled-fill-color: #AAA;\n",
              "      --disabled-bg-color: #DDD;\n",
              "  }\n",
              "\n",
              "  [theme=dark] .colab-df-quickchart {\n",
              "      --bg-color: #3B4455;\n",
              "      --fill-color: #D2E3FC;\n",
              "      --hover-bg-color: #434B5C;\n",
              "      --hover-fill-color: #FFFFFF;\n",
              "      --disabled-bg-color: #3B4455;\n",
              "      --disabled-fill-color: #666;\n",
              "  }\n",
              "\n",
              "  .colab-df-quickchart {\n",
              "    background-color: var(--bg-color);\n",
              "    border: none;\n",
              "    border-radius: 50%;\n",
              "    cursor: pointer;\n",
              "    display: none;\n",
              "    fill: var(--fill-color);\n",
              "    height: 32px;\n",
              "    padding: 0;\n",
              "    width: 32px;\n",
              "  }\n",
              "\n",
              "  .colab-df-quickchart:hover {\n",
              "    background-color: var(--hover-bg-color);\n",
              "    box-shadow: 0 1px 2px rgba(60, 64, 67, 0.3), 0 1px 3px 1px rgba(60, 64, 67, 0.15);\n",
              "    fill: var(--button-hover-fill-color);\n",
              "  }\n",
              "\n",
              "  .colab-df-quickchart-complete:disabled,\n",
              "  .colab-df-quickchart-complete:disabled:hover {\n",
              "    background-color: var(--disabled-bg-color);\n",
              "    fill: var(--disabled-fill-color);\n",
              "    box-shadow: none;\n",
              "  }\n",
              "\n",
              "  .colab-df-spinner {\n",
              "    border: 2px solid var(--fill-color);\n",
              "    border-color: transparent;\n",
              "    border-bottom-color: var(--fill-color);\n",
              "    animation:\n",
              "      spin 1s steps(1) infinite;\n",
              "  }\n",
              "\n",
              "  @keyframes spin {\n",
              "    0% {\n",
              "      border-color: transparent;\n",
              "      border-bottom-color: var(--fill-color);\n",
              "      border-left-color: var(--fill-color);\n",
              "    }\n",
              "    20% {\n",
              "      border-color: transparent;\n",
              "      border-left-color: var(--fill-color);\n",
              "      border-top-color: var(--fill-color);\n",
              "    }\n",
              "    30% {\n",
              "      border-color: transparent;\n",
              "      border-left-color: var(--fill-color);\n",
              "      border-top-color: var(--fill-color);\n",
              "      border-right-color: var(--fill-color);\n",
              "    }\n",
              "    40% {\n",
              "      border-color: transparent;\n",
              "      border-right-color: var(--fill-color);\n",
              "      border-top-color: var(--fill-color);\n",
              "    }\n",
              "    60% {\n",
              "      border-color: transparent;\n",
              "      border-right-color: var(--fill-color);\n",
              "    }\n",
              "    80% {\n",
              "      border-color: transparent;\n",
              "      border-right-color: var(--fill-color);\n",
              "      border-bottom-color: var(--fill-color);\n",
              "    }\n",
              "    90% {\n",
              "      border-color: transparent;\n",
              "      border-bottom-color: var(--fill-color);\n",
              "    }\n",
              "  }\n",
              "</style>\n",
              "\n",
              "  <script>\n",
              "    async function quickchart(key) {\n",
              "      const quickchartButtonEl =\n",
              "        document.querySelector('#' + key + ' button');\n",
              "      quickchartButtonEl.disabled = true;  // To prevent multiple clicks.\n",
              "      quickchartButtonEl.classList.add('colab-df-spinner');\n",
              "      try {\n",
              "        const charts = await google.colab.kernel.invokeFunction(\n",
              "            'suggestCharts', [key], {});\n",
              "      } catch (error) {\n",
              "        console.error('Error during call to suggestCharts:', error);\n",
              "      }\n",
              "      quickchartButtonEl.classList.remove('colab-df-spinner');\n",
              "      quickchartButtonEl.classList.add('colab-df-quickchart-complete');\n",
              "    }\n",
              "    (() => {\n",
              "      let quickchartButtonEl =\n",
              "        document.querySelector('#df-959f9e6b-8c14-4596-a3a6-175bcfa7b7b7 button');\n",
              "      quickchartButtonEl.style.display =\n",
              "        google.colab.kernel.accessAllowed ? 'block' : 'none';\n",
              "    })();\n",
              "  </script>\n",
              "</div>\n",
              "\n",
              "  <div id=\"id_93e6b0f9-731e-4352-83dc-007489e397b0\">\n",
              "    <style>\n",
              "      .colab-df-generate {\n",
              "        background-color: #E8F0FE;\n",
              "        border: none;\n",
              "        border-radius: 50%;\n",
              "        cursor: pointer;\n",
              "        display: none;\n",
              "        fill: #1967D2;\n",
              "        height: 32px;\n",
              "        padding: 0 0 0 0;\n",
              "        width: 32px;\n",
              "      }\n",
              "\n",
              "      .colab-df-generate:hover {\n",
              "        background-color: #E2EBFA;\n",
              "        box-shadow: 0px 1px 2px rgba(60, 64, 67, 0.3), 0px 1px 3px 1px rgba(60, 64, 67, 0.15);\n",
              "        fill: #174EA6;\n",
              "      }\n",
              "\n",
              "      [theme=dark] .colab-df-generate {\n",
              "        background-color: #3B4455;\n",
              "        fill: #D2E3FC;\n",
              "      }\n",
              "\n",
              "      [theme=dark] .colab-df-generate:hover {\n",
              "        background-color: #434B5C;\n",
              "        box-shadow: 0px 1px 3px 1px rgba(0, 0, 0, 0.15);\n",
              "        filter: drop-shadow(0px 1px 2px rgba(0, 0, 0, 0.3));\n",
              "        fill: #FFFFFF;\n",
              "      }\n",
              "    </style>\n",
              "    <button class=\"colab-df-generate\" onclick=\"generateWithVariable('df')\"\n",
              "            title=\"Generate code using this dataframe.\"\n",
              "            style=\"display:none;\">\n",
              "\n",
              "  <svg xmlns=\"http://www.w3.org/2000/svg\" height=\"24px\"viewBox=\"0 0 24 24\"\n",
              "       width=\"24px\">\n",
              "    <path d=\"M7,19H8.4L18.45,9,17,7.55,7,17.6ZM5,21V16.75L18.45,3.32a2,2,0,0,1,2.83,0l1.4,1.43a1.91,1.91,0,0,1,.58,1.4,1.91,1.91,0,0,1-.58,1.4L9.25,21ZM18.45,9,17,7.55Zm-12,3A5.31,5.31,0,0,0,4.9,8.1,5.31,5.31,0,0,0,1,6.5,5.31,5.31,0,0,0,4.9,4.9,5.31,5.31,0,0,0,6.5,1,5.31,5.31,0,0,0,8.1,4.9,5.31,5.31,0,0,0,12,6.5,5.46,5.46,0,0,0,6.5,12Z\"/>\n",
              "  </svg>\n",
              "    </button>\n",
              "    <script>\n",
              "      (() => {\n",
              "      const buttonEl =\n",
              "        document.querySelector('#id_93e6b0f9-731e-4352-83dc-007489e397b0 button.colab-df-generate');\n",
              "      buttonEl.style.display =\n",
              "        google.colab.kernel.accessAllowed ? 'block' : 'none';\n",
              "\n",
              "      buttonEl.onclick = () => {\n",
              "        google.colab.notebook.generateWithVariable('df');\n",
              "      }\n",
              "      })();\n",
              "    </script>\n",
              "  </div>\n",
              "\n",
              "    </div>\n",
              "  </div>\n"
            ],
            "application/vnd.google.colaboratory.intrinsic+json": {
              "type": "dataframe",
              "variable_name": "df"
            }
          },
          "metadata": {},
          "execution_count": 37
        }
      ]
    },
    {
      "cell_type": "code",
      "source": [
        "target = [i for i in range(10) for j in range(10)]\n",
        "target = np.array(target)\n",
        "df = df.assign(target=target)\n",
        "df"
      ],
      "metadata": {
        "colab": {
          "base_uri": "https://localhost:8080/",
          "height": 424
        },
        "id": "nPplaUJ2cHo5",
        "outputId": "a9604a8e-e145-420c-8732-d7a8df03e397"
      },
      "execution_count": 38,
      "outputs": [
        {
          "output_type": "execute_result",
          "data": {
            "text/plain": [
              "    0  1  2  3  4  5  6  7  8  9  ...  775  776  777  778  779  780  781  782  \\\n",
              "0   0  0  0  0  0  0  0  0  0  0  ...    0    0    0    0    0    0    0    0   \n",
              "1   0  0  0  0  0  0  0  0  0  0  ...    0    0    0    0    0    0    0    0   \n",
              "2   0  0  0  0  0  0  0  0  0  0  ...    0    0    0    0    0    0    0    0   \n",
              "3   0  0  0  0  0  0  0  0  0  0  ...    0    0    0    0    0    0    0    0   \n",
              "4   0  0  0  0  0  0  0  0  0  0  ...    0    0    0    0    0    0    0    0   \n",
              ".. .. .. .. .. .. .. .. .. .. ..  ...  ...  ...  ...  ...  ...  ...  ...  ...   \n",
              "95  0  0  0  0  0  0  0  0  0  0  ...    0    0    0    0    0    0    0    0   \n",
              "96  0  0  0  0  0  0  0  0  0  0  ...    0    0    0    0    0    0    0    0   \n",
              "97  0  0  0  0  0  0  0  0  0  0  ...    0    0    0    0    0    0    0    0   \n",
              "98  0  0  0  0  0  0  0  0  0  0  ...    0    0    0    0    0    0    0    0   \n",
              "99  0  0  0  0  0  0  0  0  0  0  ...    0    0    0    0    0    0    0    0   \n",
              "\n",
              "    783  target  \n",
              "0     0       0  \n",
              "1     0       0  \n",
              "2     0       0  \n",
              "3     0       0  \n",
              "4     0       0  \n",
              "..  ...     ...  \n",
              "95    0       9  \n",
              "96    0       9  \n",
              "97    0       9  \n",
              "98    0       9  \n",
              "99    0       9  \n",
              "\n",
              "[100 rows x 785 columns]"
            ],
            "text/html": [
              "\n",
              "  <div id=\"df-8e1fcad3-813b-46ed-9623-2eb13c886dd3\" class=\"colab-df-container\">\n",
              "    <div>\n",
              "<style scoped>\n",
              "    .dataframe tbody tr th:only-of-type {\n",
              "        vertical-align: middle;\n",
              "    }\n",
              "\n",
              "    .dataframe tbody tr th {\n",
              "        vertical-align: top;\n",
              "    }\n",
              "\n",
              "    .dataframe thead th {\n",
              "        text-align: right;\n",
              "    }\n",
              "</style>\n",
              "<table border=\"1\" class=\"dataframe\">\n",
              "  <thead>\n",
              "    <tr style=\"text-align: right;\">\n",
              "      <th></th>\n",
              "      <th>0</th>\n",
              "      <th>1</th>\n",
              "      <th>2</th>\n",
              "      <th>3</th>\n",
              "      <th>4</th>\n",
              "      <th>5</th>\n",
              "      <th>6</th>\n",
              "      <th>7</th>\n",
              "      <th>8</th>\n",
              "      <th>9</th>\n",
              "      <th>...</th>\n",
              "      <th>775</th>\n",
              "      <th>776</th>\n",
              "      <th>777</th>\n",
              "      <th>778</th>\n",
              "      <th>779</th>\n",
              "      <th>780</th>\n",
              "      <th>781</th>\n",
              "      <th>782</th>\n",
              "      <th>783</th>\n",
              "      <th>target</th>\n",
              "    </tr>\n",
              "  </thead>\n",
              "  <tbody>\n",
              "    <tr>\n",
              "      <th>0</th>\n",
              "      <td>0</td>\n",
              "      <td>0</td>\n",
              "      <td>0</td>\n",
              "      <td>0</td>\n",
              "      <td>0</td>\n",
              "      <td>0</td>\n",
              "      <td>0</td>\n",
              "      <td>0</td>\n",
              "      <td>0</td>\n",
              "      <td>0</td>\n",
              "      <td>...</td>\n",
              "      <td>0</td>\n",
              "      <td>0</td>\n",
              "      <td>0</td>\n",
              "      <td>0</td>\n",
              "      <td>0</td>\n",
              "      <td>0</td>\n",
              "      <td>0</td>\n",
              "      <td>0</td>\n",
              "      <td>0</td>\n",
              "      <td>0</td>\n",
              "    </tr>\n",
              "    <tr>\n",
              "      <th>1</th>\n",
              "      <td>0</td>\n",
              "      <td>0</td>\n",
              "      <td>0</td>\n",
              "      <td>0</td>\n",
              "      <td>0</td>\n",
              "      <td>0</td>\n",
              "      <td>0</td>\n",
              "      <td>0</td>\n",
              "      <td>0</td>\n",
              "      <td>0</td>\n",
              "      <td>...</td>\n",
              "      <td>0</td>\n",
              "      <td>0</td>\n",
              "      <td>0</td>\n",
              "      <td>0</td>\n",
              "      <td>0</td>\n",
              "      <td>0</td>\n",
              "      <td>0</td>\n",
              "      <td>0</td>\n",
              "      <td>0</td>\n",
              "      <td>0</td>\n",
              "    </tr>\n",
              "    <tr>\n",
              "      <th>2</th>\n",
              "      <td>0</td>\n",
              "      <td>0</td>\n",
              "      <td>0</td>\n",
              "      <td>0</td>\n",
              "      <td>0</td>\n",
              "      <td>0</td>\n",
              "      <td>0</td>\n",
              "      <td>0</td>\n",
              "      <td>0</td>\n",
              "      <td>0</td>\n",
              "      <td>...</td>\n",
              "      <td>0</td>\n",
              "      <td>0</td>\n",
              "      <td>0</td>\n",
              "      <td>0</td>\n",
              "      <td>0</td>\n",
              "      <td>0</td>\n",
              "      <td>0</td>\n",
              "      <td>0</td>\n",
              "      <td>0</td>\n",
              "      <td>0</td>\n",
              "    </tr>\n",
              "    <tr>\n",
              "      <th>3</th>\n",
              "      <td>0</td>\n",
              "      <td>0</td>\n",
              "      <td>0</td>\n",
              "      <td>0</td>\n",
              "      <td>0</td>\n",
              "      <td>0</td>\n",
              "      <td>0</td>\n",
              "      <td>0</td>\n",
              "      <td>0</td>\n",
              "      <td>0</td>\n",
              "      <td>...</td>\n",
              "      <td>0</td>\n",
              "      <td>0</td>\n",
              "      <td>0</td>\n",
              "      <td>0</td>\n",
              "      <td>0</td>\n",
              "      <td>0</td>\n",
              "      <td>0</td>\n",
              "      <td>0</td>\n",
              "      <td>0</td>\n",
              "      <td>0</td>\n",
              "    </tr>\n",
              "    <tr>\n",
              "      <th>4</th>\n",
              "      <td>0</td>\n",
              "      <td>0</td>\n",
              "      <td>0</td>\n",
              "      <td>0</td>\n",
              "      <td>0</td>\n",
              "      <td>0</td>\n",
              "      <td>0</td>\n",
              "      <td>0</td>\n",
              "      <td>0</td>\n",
              "      <td>0</td>\n",
              "      <td>...</td>\n",
              "      <td>0</td>\n",
              "      <td>0</td>\n",
              "      <td>0</td>\n",
              "      <td>0</td>\n",
              "      <td>0</td>\n",
              "      <td>0</td>\n",
              "      <td>0</td>\n",
              "      <td>0</td>\n",
              "      <td>0</td>\n",
              "      <td>0</td>\n",
              "    </tr>\n",
              "    <tr>\n",
              "      <th>...</th>\n",
              "      <td>...</td>\n",
              "      <td>...</td>\n",
              "      <td>...</td>\n",
              "      <td>...</td>\n",
              "      <td>...</td>\n",
              "      <td>...</td>\n",
              "      <td>...</td>\n",
              "      <td>...</td>\n",
              "      <td>...</td>\n",
              "      <td>...</td>\n",
              "      <td>...</td>\n",
              "      <td>...</td>\n",
              "      <td>...</td>\n",
              "      <td>...</td>\n",
              "      <td>...</td>\n",
              "      <td>...</td>\n",
              "      <td>...</td>\n",
              "      <td>...</td>\n",
              "      <td>...</td>\n",
              "      <td>...</td>\n",
              "      <td>...</td>\n",
              "    </tr>\n",
              "    <tr>\n",
              "      <th>95</th>\n",
              "      <td>0</td>\n",
              "      <td>0</td>\n",
              "      <td>0</td>\n",
              "      <td>0</td>\n",
              "      <td>0</td>\n",
              "      <td>0</td>\n",
              "      <td>0</td>\n",
              "      <td>0</td>\n",
              "      <td>0</td>\n",
              "      <td>0</td>\n",
              "      <td>...</td>\n",
              "      <td>0</td>\n",
              "      <td>0</td>\n",
              "      <td>0</td>\n",
              "      <td>0</td>\n",
              "      <td>0</td>\n",
              "      <td>0</td>\n",
              "      <td>0</td>\n",
              "      <td>0</td>\n",
              "      <td>0</td>\n",
              "      <td>9</td>\n",
              "    </tr>\n",
              "    <tr>\n",
              "      <th>96</th>\n",
              "      <td>0</td>\n",
              "      <td>0</td>\n",
              "      <td>0</td>\n",
              "      <td>0</td>\n",
              "      <td>0</td>\n",
              "      <td>0</td>\n",
              "      <td>0</td>\n",
              "      <td>0</td>\n",
              "      <td>0</td>\n",
              "      <td>0</td>\n",
              "      <td>...</td>\n",
              "      <td>0</td>\n",
              "      <td>0</td>\n",
              "      <td>0</td>\n",
              "      <td>0</td>\n",
              "      <td>0</td>\n",
              "      <td>0</td>\n",
              "      <td>0</td>\n",
              "      <td>0</td>\n",
              "      <td>0</td>\n",
              "      <td>9</td>\n",
              "    </tr>\n",
              "    <tr>\n",
              "      <th>97</th>\n",
              "      <td>0</td>\n",
              "      <td>0</td>\n",
              "      <td>0</td>\n",
              "      <td>0</td>\n",
              "      <td>0</td>\n",
              "      <td>0</td>\n",
              "      <td>0</td>\n",
              "      <td>0</td>\n",
              "      <td>0</td>\n",
              "      <td>0</td>\n",
              "      <td>...</td>\n",
              "      <td>0</td>\n",
              "      <td>0</td>\n",
              "      <td>0</td>\n",
              "      <td>0</td>\n",
              "      <td>0</td>\n",
              "      <td>0</td>\n",
              "      <td>0</td>\n",
              "      <td>0</td>\n",
              "      <td>0</td>\n",
              "      <td>9</td>\n",
              "    </tr>\n",
              "    <tr>\n",
              "      <th>98</th>\n",
              "      <td>0</td>\n",
              "      <td>0</td>\n",
              "      <td>0</td>\n",
              "      <td>0</td>\n",
              "      <td>0</td>\n",
              "      <td>0</td>\n",
              "      <td>0</td>\n",
              "      <td>0</td>\n",
              "      <td>0</td>\n",
              "      <td>0</td>\n",
              "      <td>...</td>\n",
              "      <td>0</td>\n",
              "      <td>0</td>\n",
              "      <td>0</td>\n",
              "      <td>0</td>\n",
              "      <td>0</td>\n",
              "      <td>0</td>\n",
              "      <td>0</td>\n",
              "      <td>0</td>\n",
              "      <td>0</td>\n",
              "      <td>9</td>\n",
              "    </tr>\n",
              "    <tr>\n",
              "      <th>99</th>\n",
              "      <td>0</td>\n",
              "      <td>0</td>\n",
              "      <td>0</td>\n",
              "      <td>0</td>\n",
              "      <td>0</td>\n",
              "      <td>0</td>\n",
              "      <td>0</td>\n",
              "      <td>0</td>\n",
              "      <td>0</td>\n",
              "      <td>0</td>\n",
              "      <td>...</td>\n",
              "      <td>0</td>\n",
              "      <td>0</td>\n",
              "      <td>0</td>\n",
              "      <td>0</td>\n",
              "      <td>0</td>\n",
              "      <td>0</td>\n",
              "      <td>0</td>\n",
              "      <td>0</td>\n",
              "      <td>0</td>\n",
              "      <td>9</td>\n",
              "    </tr>\n",
              "  </tbody>\n",
              "</table>\n",
              "<p>100 rows × 785 columns</p>\n",
              "</div>\n",
              "    <div class=\"colab-df-buttons\">\n",
              "\n",
              "  <div class=\"colab-df-container\">\n",
              "    <button class=\"colab-df-convert\" onclick=\"convertToInteractive('df-8e1fcad3-813b-46ed-9623-2eb13c886dd3')\"\n",
              "            title=\"Convert this dataframe to an interactive table.\"\n",
              "            style=\"display:none;\">\n",
              "\n",
              "  <svg xmlns=\"http://www.w3.org/2000/svg\" height=\"24px\" viewBox=\"0 -960 960 960\">\n",
              "    <path d=\"M120-120v-720h720v720H120Zm60-500h600v-160H180v160Zm220 220h160v-160H400v160Zm0 220h160v-160H400v160ZM180-400h160v-160H180v160Zm440 0h160v-160H620v160ZM180-180h160v-160H180v160Zm440 0h160v-160H620v160Z\"/>\n",
              "  </svg>\n",
              "    </button>\n",
              "\n",
              "  <style>\n",
              "    .colab-df-container {\n",
              "      display:flex;\n",
              "      gap: 12px;\n",
              "    }\n",
              "\n",
              "    .colab-df-convert {\n",
              "      background-color: #E8F0FE;\n",
              "      border: none;\n",
              "      border-radius: 50%;\n",
              "      cursor: pointer;\n",
              "      display: none;\n",
              "      fill: #1967D2;\n",
              "      height: 32px;\n",
              "      padding: 0 0 0 0;\n",
              "      width: 32px;\n",
              "    }\n",
              "\n",
              "    .colab-df-convert:hover {\n",
              "      background-color: #E2EBFA;\n",
              "      box-shadow: 0px 1px 2px rgba(60, 64, 67, 0.3), 0px 1px 3px 1px rgba(60, 64, 67, 0.15);\n",
              "      fill: #174EA6;\n",
              "    }\n",
              "\n",
              "    .colab-df-buttons div {\n",
              "      margin-bottom: 4px;\n",
              "    }\n",
              "\n",
              "    [theme=dark] .colab-df-convert {\n",
              "      background-color: #3B4455;\n",
              "      fill: #D2E3FC;\n",
              "    }\n",
              "\n",
              "    [theme=dark] .colab-df-convert:hover {\n",
              "      background-color: #434B5C;\n",
              "      box-shadow: 0px 1px 3px 1px rgba(0, 0, 0, 0.15);\n",
              "      filter: drop-shadow(0px 1px 2px rgba(0, 0, 0, 0.3));\n",
              "      fill: #FFFFFF;\n",
              "    }\n",
              "  </style>\n",
              "\n",
              "    <script>\n",
              "      const buttonEl =\n",
              "        document.querySelector('#df-8e1fcad3-813b-46ed-9623-2eb13c886dd3 button.colab-df-convert');\n",
              "      buttonEl.style.display =\n",
              "        google.colab.kernel.accessAllowed ? 'block' : 'none';\n",
              "\n",
              "      async function convertToInteractive(key) {\n",
              "        const element = document.querySelector('#df-8e1fcad3-813b-46ed-9623-2eb13c886dd3');\n",
              "        const dataTable =\n",
              "          await google.colab.kernel.invokeFunction('convertToInteractive',\n",
              "                                                    [key], {});\n",
              "        if (!dataTable) return;\n",
              "\n",
              "        const docLinkHtml = 'Like what you see? Visit the ' +\n",
              "          '<a target=\"_blank\" href=https://colab.research.google.com/notebooks/data_table.ipynb>data table notebook</a>'\n",
              "          + ' to learn more about interactive tables.';\n",
              "        element.innerHTML = '';\n",
              "        dataTable['output_type'] = 'display_data';\n",
              "        await google.colab.output.renderOutput(dataTable, element);\n",
              "        const docLink = document.createElement('div');\n",
              "        docLink.innerHTML = docLinkHtml;\n",
              "        element.appendChild(docLink);\n",
              "      }\n",
              "    </script>\n",
              "  </div>\n",
              "\n",
              "\n",
              "<div id=\"df-f86684aa-c821-41c7-9e46-0c4cdbe6034a\">\n",
              "  <button class=\"colab-df-quickchart\" onclick=\"quickchart('df-f86684aa-c821-41c7-9e46-0c4cdbe6034a')\"\n",
              "            title=\"Suggest charts\"\n",
              "            style=\"display:none;\">\n",
              "\n",
              "<svg xmlns=\"http://www.w3.org/2000/svg\" height=\"24px\"viewBox=\"0 0 24 24\"\n",
              "     width=\"24px\">\n",
              "    <g>\n",
              "        <path d=\"M19 3H5c-1.1 0-2 .9-2 2v14c0 1.1.9 2 2 2h14c1.1 0 2-.9 2-2V5c0-1.1-.9-2-2-2zM9 17H7v-7h2v7zm4 0h-2V7h2v10zm4 0h-2v-4h2v4z\"/>\n",
              "    </g>\n",
              "</svg>\n",
              "  </button>\n",
              "\n",
              "<style>\n",
              "  .colab-df-quickchart {\n",
              "      --bg-color: #E8F0FE;\n",
              "      --fill-color: #1967D2;\n",
              "      --hover-bg-color: #E2EBFA;\n",
              "      --hover-fill-color: #174EA6;\n",
              "      --disabled-fill-color: #AAA;\n",
              "      --disabled-bg-color: #DDD;\n",
              "  }\n",
              "\n",
              "  [theme=dark] .colab-df-quickchart {\n",
              "      --bg-color: #3B4455;\n",
              "      --fill-color: #D2E3FC;\n",
              "      --hover-bg-color: #434B5C;\n",
              "      --hover-fill-color: #FFFFFF;\n",
              "      --disabled-bg-color: #3B4455;\n",
              "      --disabled-fill-color: #666;\n",
              "  }\n",
              "\n",
              "  .colab-df-quickchart {\n",
              "    background-color: var(--bg-color);\n",
              "    border: none;\n",
              "    border-radius: 50%;\n",
              "    cursor: pointer;\n",
              "    display: none;\n",
              "    fill: var(--fill-color);\n",
              "    height: 32px;\n",
              "    padding: 0;\n",
              "    width: 32px;\n",
              "  }\n",
              "\n",
              "  .colab-df-quickchart:hover {\n",
              "    background-color: var(--hover-bg-color);\n",
              "    box-shadow: 0 1px 2px rgba(60, 64, 67, 0.3), 0 1px 3px 1px rgba(60, 64, 67, 0.15);\n",
              "    fill: var(--button-hover-fill-color);\n",
              "  }\n",
              "\n",
              "  .colab-df-quickchart-complete:disabled,\n",
              "  .colab-df-quickchart-complete:disabled:hover {\n",
              "    background-color: var(--disabled-bg-color);\n",
              "    fill: var(--disabled-fill-color);\n",
              "    box-shadow: none;\n",
              "  }\n",
              "\n",
              "  .colab-df-spinner {\n",
              "    border: 2px solid var(--fill-color);\n",
              "    border-color: transparent;\n",
              "    border-bottom-color: var(--fill-color);\n",
              "    animation:\n",
              "      spin 1s steps(1) infinite;\n",
              "  }\n",
              "\n",
              "  @keyframes spin {\n",
              "    0% {\n",
              "      border-color: transparent;\n",
              "      border-bottom-color: var(--fill-color);\n",
              "      border-left-color: var(--fill-color);\n",
              "    }\n",
              "    20% {\n",
              "      border-color: transparent;\n",
              "      border-left-color: var(--fill-color);\n",
              "      border-top-color: var(--fill-color);\n",
              "    }\n",
              "    30% {\n",
              "      border-color: transparent;\n",
              "      border-left-color: var(--fill-color);\n",
              "      border-top-color: var(--fill-color);\n",
              "      border-right-color: var(--fill-color);\n",
              "    }\n",
              "    40% {\n",
              "      border-color: transparent;\n",
              "      border-right-color: var(--fill-color);\n",
              "      border-top-color: var(--fill-color);\n",
              "    }\n",
              "    60% {\n",
              "      border-color: transparent;\n",
              "      border-right-color: var(--fill-color);\n",
              "    }\n",
              "    80% {\n",
              "      border-color: transparent;\n",
              "      border-right-color: var(--fill-color);\n",
              "      border-bottom-color: var(--fill-color);\n",
              "    }\n",
              "    90% {\n",
              "      border-color: transparent;\n",
              "      border-bottom-color: var(--fill-color);\n",
              "    }\n",
              "  }\n",
              "</style>\n",
              "\n",
              "  <script>\n",
              "    async function quickchart(key) {\n",
              "      const quickchartButtonEl =\n",
              "        document.querySelector('#' + key + ' button');\n",
              "      quickchartButtonEl.disabled = true;  // To prevent multiple clicks.\n",
              "      quickchartButtonEl.classList.add('colab-df-spinner');\n",
              "      try {\n",
              "        const charts = await google.colab.kernel.invokeFunction(\n",
              "            'suggestCharts', [key], {});\n",
              "      } catch (error) {\n",
              "        console.error('Error during call to suggestCharts:', error);\n",
              "      }\n",
              "      quickchartButtonEl.classList.remove('colab-df-spinner');\n",
              "      quickchartButtonEl.classList.add('colab-df-quickchart-complete');\n",
              "    }\n",
              "    (() => {\n",
              "      let quickchartButtonEl =\n",
              "        document.querySelector('#df-f86684aa-c821-41c7-9e46-0c4cdbe6034a button');\n",
              "      quickchartButtonEl.style.display =\n",
              "        google.colab.kernel.accessAllowed ? 'block' : 'none';\n",
              "    })();\n",
              "  </script>\n",
              "</div>\n",
              "\n",
              "  <div id=\"id_185e78e2-3164-40c6-be9c-f25c99588a0d\">\n",
              "    <style>\n",
              "      .colab-df-generate {\n",
              "        background-color: #E8F0FE;\n",
              "        border: none;\n",
              "        border-radius: 50%;\n",
              "        cursor: pointer;\n",
              "        display: none;\n",
              "        fill: #1967D2;\n",
              "        height: 32px;\n",
              "        padding: 0 0 0 0;\n",
              "        width: 32px;\n",
              "      }\n",
              "\n",
              "      .colab-df-generate:hover {\n",
              "        background-color: #E2EBFA;\n",
              "        box-shadow: 0px 1px 2px rgba(60, 64, 67, 0.3), 0px 1px 3px 1px rgba(60, 64, 67, 0.15);\n",
              "        fill: #174EA6;\n",
              "      }\n",
              "\n",
              "      [theme=dark] .colab-df-generate {\n",
              "        background-color: #3B4455;\n",
              "        fill: #D2E3FC;\n",
              "      }\n",
              "\n",
              "      [theme=dark] .colab-df-generate:hover {\n",
              "        background-color: #434B5C;\n",
              "        box-shadow: 0px 1px 3px 1px rgba(0, 0, 0, 0.15);\n",
              "        filter: drop-shadow(0px 1px 2px rgba(0, 0, 0, 0.3));\n",
              "        fill: #FFFFFF;\n",
              "      }\n",
              "    </style>\n",
              "    <button class=\"colab-df-generate\" onclick=\"generateWithVariable('df')\"\n",
              "            title=\"Generate code using this dataframe.\"\n",
              "            style=\"display:none;\">\n",
              "\n",
              "  <svg xmlns=\"http://www.w3.org/2000/svg\" height=\"24px\"viewBox=\"0 0 24 24\"\n",
              "       width=\"24px\">\n",
              "    <path d=\"M7,19H8.4L18.45,9,17,7.55,7,17.6ZM5,21V16.75L18.45,3.32a2,2,0,0,1,2.83,0l1.4,1.43a1.91,1.91,0,0,1,.58,1.4,1.91,1.91,0,0,1-.58,1.4L9.25,21ZM18.45,9,17,7.55Zm-12,3A5.31,5.31,0,0,0,4.9,8.1,5.31,5.31,0,0,0,1,6.5,5.31,5.31,0,0,0,4.9,4.9,5.31,5.31,0,0,0,6.5,1,5.31,5.31,0,0,0,8.1,4.9,5.31,5.31,0,0,0,12,6.5,5.46,5.46,0,0,0,6.5,12Z\"/>\n",
              "  </svg>\n",
              "    </button>\n",
              "    <script>\n",
              "      (() => {\n",
              "      const buttonEl =\n",
              "        document.querySelector('#id_185e78e2-3164-40c6-be9c-f25c99588a0d button.colab-df-generate');\n",
              "      buttonEl.style.display =\n",
              "        google.colab.kernel.accessAllowed ? 'block' : 'none';\n",
              "\n",
              "      buttonEl.onclick = () => {\n",
              "        google.colab.notebook.generateWithVariable('df');\n",
              "      }\n",
              "      })();\n",
              "    </script>\n",
              "  </div>\n",
              "\n",
              "    </div>\n",
              "  </div>\n"
            ],
            "application/vnd.google.colaboratory.intrinsic+json": {
              "type": "dataframe",
              "variable_name": "df"
            }
          },
          "metadata": {},
          "execution_count": 38
        }
      ]
    },
    {
      "cell_type": "code",
      "source": [
        "X = df.drop(['target'], axis=1)\n",
        "y = df['target']"
      ],
      "metadata": {
        "id": "a1WDsKY9cLbP"
      },
      "execution_count": 39,
      "outputs": []
    },
    {
      "cell_type": "code",
      "source": [
        "from sklearn.model_selection import train_test_split\n",
        "from sklearn.preprocessing import StandardScaler\n",
        "\n",
        "scaler = StandardScaler()\n",
        "X_scaled = scaler.fit_transform(X)\n",
        "X_train, X_test, y_train, y_test = train_test_split(X_scaled, y, test_size=0.2, random_state=0)\n",
        "\n",
        "sgd_clf = SGDClassifier(random_state=0)\n",
        "sgd_clf.fit(X_train, y_train)"
      ],
      "metadata": {
        "colab": {
          "base_uri": "https://localhost:8080/",
          "height": 75
        },
        "id": "erBhwdKHcL1v",
        "outputId": "cb33d14e-c45d-4f85-94e1-9aeee859d45d"
      },
      "execution_count": 41,
      "outputs": [
        {
          "output_type": "execute_result",
          "data": {
            "text/plain": [
              "SGDClassifier(random_state=0)"
            ],
            "text/html": [
              "<style>#sk-container-id-2 {color: black;}#sk-container-id-2 pre{padding: 0;}#sk-container-id-2 div.sk-toggleable {background-color: white;}#sk-container-id-2 label.sk-toggleable__label {cursor: pointer;display: block;width: 100%;margin-bottom: 0;padding: 0.3em;box-sizing: border-box;text-align: center;}#sk-container-id-2 label.sk-toggleable__label-arrow:before {content: \"▸\";float: left;margin-right: 0.25em;color: #696969;}#sk-container-id-2 label.sk-toggleable__label-arrow:hover:before {color: black;}#sk-container-id-2 div.sk-estimator:hover label.sk-toggleable__label-arrow:before {color: black;}#sk-container-id-2 div.sk-toggleable__content {max-height: 0;max-width: 0;overflow: hidden;text-align: left;background-color: #f0f8ff;}#sk-container-id-2 div.sk-toggleable__content pre {margin: 0.2em;color: black;border-radius: 0.25em;background-color: #f0f8ff;}#sk-container-id-2 input.sk-toggleable__control:checked~div.sk-toggleable__content {max-height: 200px;max-width: 100%;overflow: auto;}#sk-container-id-2 input.sk-toggleable__control:checked~label.sk-toggleable__label-arrow:before {content: \"▾\";}#sk-container-id-2 div.sk-estimator input.sk-toggleable__control:checked~label.sk-toggleable__label {background-color: #d4ebff;}#sk-container-id-2 div.sk-label input.sk-toggleable__control:checked~label.sk-toggleable__label {background-color: #d4ebff;}#sk-container-id-2 input.sk-hidden--visually {border: 0;clip: rect(1px 1px 1px 1px);clip: rect(1px, 1px, 1px, 1px);height: 1px;margin: -1px;overflow: hidden;padding: 0;position: absolute;width: 1px;}#sk-container-id-2 div.sk-estimator {font-family: monospace;background-color: #f0f8ff;border: 1px dotted black;border-radius: 0.25em;box-sizing: border-box;margin-bottom: 0.5em;}#sk-container-id-2 div.sk-estimator:hover {background-color: #d4ebff;}#sk-container-id-2 div.sk-parallel-item::after {content: \"\";width: 100%;border-bottom: 1px solid gray;flex-grow: 1;}#sk-container-id-2 div.sk-label:hover label.sk-toggleable__label {background-color: #d4ebff;}#sk-container-id-2 div.sk-serial::before {content: \"\";position: absolute;border-left: 1px solid gray;box-sizing: border-box;top: 0;bottom: 0;left: 50%;z-index: 0;}#sk-container-id-2 div.sk-serial {display: flex;flex-direction: column;align-items: center;background-color: white;padding-right: 0.2em;padding-left: 0.2em;position: relative;}#sk-container-id-2 div.sk-item {position: relative;z-index: 1;}#sk-container-id-2 div.sk-parallel {display: flex;align-items: stretch;justify-content: center;background-color: white;position: relative;}#sk-container-id-2 div.sk-item::before, #sk-container-id-2 div.sk-parallel-item::before {content: \"\";position: absolute;border-left: 1px solid gray;box-sizing: border-box;top: 0;bottom: 0;left: 50%;z-index: -1;}#sk-container-id-2 div.sk-parallel-item {display: flex;flex-direction: column;z-index: 1;position: relative;background-color: white;}#sk-container-id-2 div.sk-parallel-item:first-child::after {align-self: flex-end;width: 50%;}#sk-container-id-2 div.sk-parallel-item:last-child::after {align-self: flex-start;width: 50%;}#sk-container-id-2 div.sk-parallel-item:only-child::after {width: 0;}#sk-container-id-2 div.sk-dashed-wrapped {border: 1px dashed gray;margin: 0 0.4em 0.5em 0.4em;box-sizing: border-box;padding-bottom: 0.4em;background-color: white;}#sk-container-id-2 div.sk-label label {font-family: monospace;font-weight: bold;display: inline-block;line-height: 1.2em;}#sk-container-id-2 div.sk-label-container {text-align: center;}#sk-container-id-2 div.sk-container {/* jupyter's `normalize.less` sets `[hidden] { display: none; }` but bootstrap.min.css set `[hidden] { display: none !important; }` so we also need the `!important` here to be able to override the default hidden behavior on the sphinx rendered scikit-learn.org. See: https://github.com/scikit-learn/scikit-learn/issues/21755 */display: inline-block !important;position: relative;}#sk-container-id-2 div.sk-text-repr-fallback {display: none;}</style><div id=\"sk-container-id-2\" class=\"sk-top-container\"><div class=\"sk-text-repr-fallback\"><pre>SGDClassifier(random_state=0)</pre><b>In a Jupyter environment, please rerun this cell to show the HTML representation or trust the notebook. <br />On GitHub, the HTML representation is unable to render, please try loading this page with nbviewer.org.</b></div><div class=\"sk-container\" hidden><div class=\"sk-item\"><div class=\"sk-estimator sk-toggleable\"><input class=\"sk-toggleable__control sk-hidden--visually\" id=\"sk-estimator-id-2\" type=\"checkbox\" checked><label for=\"sk-estimator-id-2\" class=\"sk-toggleable__label sk-toggleable__label-arrow\">SGDClassifier</label><div class=\"sk-toggleable__content\"><pre>SGDClassifier(random_state=0)</pre></div></div></div></div></div>"
            ]
          },
          "metadata": {},
          "execution_count": 41
        }
      ]
    },
    {
      "cell_type": "code",
      "source": [
        "cross_val_score(sgd_clf, X_train, y_train, cv=3, scoring=\"accuracy\")\n",
        "# The result is worse compared to the mnist dataset\n",
        "# which might be due to my dataset being smaller than mnist"
      ],
      "metadata": {
        "colab": {
          "base_uri": "https://localhost:8080/"
        },
        "id": "lPawjrCncPwX",
        "outputId": "f9d6bcce-44ea-4997-fc22-97836f0f3954"
      },
      "execution_count": 42,
      "outputs": [
        {
          "output_type": "execute_result",
          "data": {
            "text/plain": [
              "array([0.66666667, 0.7037037 , 0.69230769])"
            ]
          },
          "metadata": {},
          "execution_count": 42
        }
      ]
    },
    {
      "cell_type": "code",
      "source": [
        "# Trying hypertuning paramters to get a higher accuracy\n",
        "from sklearn.model_selection import GridSearchCV\n",
        "\n",
        "parameters = {\n",
        "    'loss' : ['log_loss', 'squared_hinge'],\n",
        "    'alpha' : [0.001, 0.01],\n",
        "    'learning_rate' : ['adaptive', 'invscaling'],\n",
        "    'max_iter' : [1000, 5000,10000],\n",
        "    'eta0' : [0.01, 0.1],\n",
        "}\n",
        "\n",
        "search = GridSearchCV(sgd_clf, parameters, scoring='accuracy', cv=3, n_jobs=-1, verbose=3)\n",
        "search.fit(X_train, y_train)"
      ],
      "metadata": {
        "colab": {
          "base_uri": "https://localhost:8080/",
          "height": 135
        },
        "id": "LVXdgN0TwH7o",
        "outputId": "1bb2f5d0-fb88-434a-a0e7-2d7c04307e2f"
      },
      "execution_count": 46,
      "outputs": [
        {
          "output_type": "stream",
          "name": "stdout",
          "text": [
            "Fitting 3 folds for each of 48 candidates, totalling 144 fits\n"
          ]
        },
        {
          "output_type": "execute_result",
          "data": {
            "text/plain": [
              "GridSearchCV(cv=3, estimator=SGDClassifier(random_state=0), n_jobs=-1,\n",
              "             param_grid={'alpha': [0.001, 0.01], 'eta0': [0.01, 0.1],\n",
              "                         'learning_rate': ['adaptive', 'invscaling'],\n",
              "                         'loss': ['log_loss', 'squared_hinge'],\n",
              "                         'max_iter': [1000, 5000, 10000]},\n",
              "             scoring='accuracy', verbose=3)"
            ],
            "text/html": [
              "<style>#sk-container-id-3 {color: black;}#sk-container-id-3 pre{padding: 0;}#sk-container-id-3 div.sk-toggleable {background-color: white;}#sk-container-id-3 label.sk-toggleable__label {cursor: pointer;display: block;width: 100%;margin-bottom: 0;padding: 0.3em;box-sizing: border-box;text-align: center;}#sk-container-id-3 label.sk-toggleable__label-arrow:before {content: \"▸\";float: left;margin-right: 0.25em;color: #696969;}#sk-container-id-3 label.sk-toggleable__label-arrow:hover:before {color: black;}#sk-container-id-3 div.sk-estimator:hover label.sk-toggleable__label-arrow:before {color: black;}#sk-container-id-3 div.sk-toggleable__content {max-height: 0;max-width: 0;overflow: hidden;text-align: left;background-color: #f0f8ff;}#sk-container-id-3 div.sk-toggleable__content pre {margin: 0.2em;color: black;border-radius: 0.25em;background-color: #f0f8ff;}#sk-container-id-3 input.sk-toggleable__control:checked~div.sk-toggleable__content {max-height: 200px;max-width: 100%;overflow: auto;}#sk-container-id-3 input.sk-toggleable__control:checked~label.sk-toggleable__label-arrow:before {content: \"▾\";}#sk-container-id-3 div.sk-estimator input.sk-toggleable__control:checked~label.sk-toggleable__label {background-color: #d4ebff;}#sk-container-id-3 div.sk-label input.sk-toggleable__control:checked~label.sk-toggleable__label {background-color: #d4ebff;}#sk-container-id-3 input.sk-hidden--visually {border: 0;clip: rect(1px 1px 1px 1px);clip: rect(1px, 1px, 1px, 1px);height: 1px;margin: -1px;overflow: hidden;padding: 0;position: absolute;width: 1px;}#sk-container-id-3 div.sk-estimator {font-family: monospace;background-color: #f0f8ff;border: 1px dotted black;border-radius: 0.25em;box-sizing: border-box;margin-bottom: 0.5em;}#sk-container-id-3 div.sk-estimator:hover {background-color: #d4ebff;}#sk-container-id-3 div.sk-parallel-item::after {content: \"\";width: 100%;border-bottom: 1px solid gray;flex-grow: 1;}#sk-container-id-3 div.sk-label:hover label.sk-toggleable__label {background-color: #d4ebff;}#sk-container-id-3 div.sk-serial::before {content: \"\";position: absolute;border-left: 1px solid gray;box-sizing: border-box;top: 0;bottom: 0;left: 50%;z-index: 0;}#sk-container-id-3 div.sk-serial {display: flex;flex-direction: column;align-items: center;background-color: white;padding-right: 0.2em;padding-left: 0.2em;position: relative;}#sk-container-id-3 div.sk-item {position: relative;z-index: 1;}#sk-container-id-3 div.sk-parallel {display: flex;align-items: stretch;justify-content: center;background-color: white;position: relative;}#sk-container-id-3 div.sk-item::before, #sk-container-id-3 div.sk-parallel-item::before {content: \"\";position: absolute;border-left: 1px solid gray;box-sizing: border-box;top: 0;bottom: 0;left: 50%;z-index: -1;}#sk-container-id-3 div.sk-parallel-item {display: flex;flex-direction: column;z-index: 1;position: relative;background-color: white;}#sk-container-id-3 div.sk-parallel-item:first-child::after {align-self: flex-end;width: 50%;}#sk-container-id-3 div.sk-parallel-item:last-child::after {align-self: flex-start;width: 50%;}#sk-container-id-3 div.sk-parallel-item:only-child::after {width: 0;}#sk-container-id-3 div.sk-dashed-wrapped {border: 1px dashed gray;margin: 0 0.4em 0.5em 0.4em;box-sizing: border-box;padding-bottom: 0.4em;background-color: white;}#sk-container-id-3 div.sk-label label {font-family: monospace;font-weight: bold;display: inline-block;line-height: 1.2em;}#sk-container-id-3 div.sk-label-container {text-align: center;}#sk-container-id-3 div.sk-container {/* jupyter's `normalize.less` sets `[hidden] { display: none; }` but bootstrap.min.css set `[hidden] { display: none !important; }` so we also need the `!important` here to be able to override the default hidden behavior on the sphinx rendered scikit-learn.org. See: https://github.com/scikit-learn/scikit-learn/issues/21755 */display: inline-block !important;position: relative;}#sk-container-id-3 div.sk-text-repr-fallback {display: none;}</style><div id=\"sk-container-id-3\" class=\"sk-top-container\"><div class=\"sk-text-repr-fallback\"><pre>GridSearchCV(cv=3, estimator=SGDClassifier(random_state=0), n_jobs=-1,\n",
              "             param_grid={&#x27;alpha&#x27;: [0.001, 0.01], &#x27;eta0&#x27;: [0.01, 0.1],\n",
              "                         &#x27;learning_rate&#x27;: [&#x27;adaptive&#x27;, &#x27;invscaling&#x27;],\n",
              "                         &#x27;loss&#x27;: [&#x27;log_loss&#x27;, &#x27;squared_hinge&#x27;],\n",
              "                         &#x27;max_iter&#x27;: [1000, 5000, 10000]},\n",
              "             scoring=&#x27;accuracy&#x27;, verbose=3)</pre><b>In a Jupyter environment, please rerun this cell to show the HTML representation or trust the notebook. <br />On GitHub, the HTML representation is unable to render, please try loading this page with nbviewer.org.</b></div><div class=\"sk-container\" hidden><div class=\"sk-item sk-dashed-wrapped\"><div class=\"sk-label-container\"><div class=\"sk-label sk-toggleable\"><input class=\"sk-toggleable__control sk-hidden--visually\" id=\"sk-estimator-id-3\" type=\"checkbox\" ><label for=\"sk-estimator-id-3\" class=\"sk-toggleable__label sk-toggleable__label-arrow\">GridSearchCV</label><div class=\"sk-toggleable__content\"><pre>GridSearchCV(cv=3, estimator=SGDClassifier(random_state=0), n_jobs=-1,\n",
              "             param_grid={&#x27;alpha&#x27;: [0.001, 0.01], &#x27;eta0&#x27;: [0.01, 0.1],\n",
              "                         &#x27;learning_rate&#x27;: [&#x27;adaptive&#x27;, &#x27;invscaling&#x27;],\n",
              "                         &#x27;loss&#x27;: [&#x27;log_loss&#x27;, &#x27;squared_hinge&#x27;],\n",
              "                         &#x27;max_iter&#x27;: [1000, 5000, 10000]},\n",
              "             scoring=&#x27;accuracy&#x27;, verbose=3)</pre></div></div></div><div class=\"sk-parallel\"><div class=\"sk-parallel-item\"><div class=\"sk-item\"><div class=\"sk-label-container\"><div class=\"sk-label sk-toggleable\"><input class=\"sk-toggleable__control sk-hidden--visually\" id=\"sk-estimator-id-4\" type=\"checkbox\" ><label for=\"sk-estimator-id-4\" class=\"sk-toggleable__label sk-toggleable__label-arrow\">estimator: SGDClassifier</label><div class=\"sk-toggleable__content\"><pre>SGDClassifier(random_state=0)</pre></div></div></div><div class=\"sk-serial\"><div class=\"sk-item\"><div class=\"sk-estimator sk-toggleable\"><input class=\"sk-toggleable__control sk-hidden--visually\" id=\"sk-estimator-id-5\" type=\"checkbox\" ><label for=\"sk-estimator-id-5\" class=\"sk-toggleable__label sk-toggleable__label-arrow\">SGDClassifier</label><div class=\"sk-toggleable__content\"><pre>SGDClassifier(random_state=0)</pre></div></div></div></div></div></div></div></div></div></div>"
            ]
          },
          "metadata": {},
          "execution_count": 46
        }
      ]
    },
    {
      "cell_type": "code",
      "source": [
        "print('GridSearch CV best score: {:.4f}'.format(search.best_score_))"
      ],
      "metadata": {
        "colab": {
          "base_uri": "https://localhost:8080/"
        },
        "id": "ivdSihV4xQGR",
        "outputId": "3e3ef767-c3e5-43c5-adaa-543cbb771508"
      },
      "execution_count": 48,
      "outputs": [
        {
          "output_type": "stream",
          "name": "stdout",
          "text": [
            "GridSearch CV best score: 0.7877\n"
          ]
        }
      ]
    },
    {
      "cell_type": "code",
      "source": [
        "print('Parameters that give the best results:',(search.best_params_))"
      ],
      "metadata": {
        "colab": {
          "base_uri": "https://localhost:8080/"
        },
        "id": "_EIymJ1Tzj3q",
        "outputId": "883aeed5-319f-45df-cd4a-b363fc642612"
      },
      "execution_count": 50,
      "outputs": [
        {
          "output_type": "stream",
          "name": "stdout",
          "text": [
            "Parameters that give the best results: {'alpha': 0.001, 'eta0': 0.01, 'learning_rate': 'invscaling', 'loss': 'log_loss', 'max_iter': 1000}\n"
          ]
        }
      ]
    },
    {
      "cell_type": "code",
      "source": [
        "# Testing the model with the MNIST dataset\n",
        "X_mnist, y_mnist = mnist.data, mnist.target\n",
        "\n",
        "sgd_clf = SGDClassifier(\n",
        "    random_state = 0, loss='log_loss', alpha = 0.001, eta0 = 0.01, max_iter=1000, learning_rate='invscaling')\n",
        "sgd_clf.fit(X_train, y_train)\n",
        "\n",
        "mnist_scaler = StandardScaler()\n",
        "X_mnist = mnist_scaler.fit_transform(X_mnist)\n",
        "\n",
        "cross_val_score(sgd_clf, X_mnist, y_mnist, cv=3, scoring=\"accuracy\")\n",
        "\n",
        "# It can be seen that the results are good (87%-89%),\n",
        "# but is worse compared to a model trained with the MNIST dataset itself"
      ],
      "metadata": {
        "colab": {
          "base_uri": "https://localhost:8080/"
        },
        "id": "c0VaTEZ8y0t8",
        "outputId": "68384780-736b-4d96-8706-09a763dbde5c"
      },
      "execution_count": 51,
      "outputs": [
        {
          "output_type": "execute_result",
          "data": {
            "text/plain": [
              "array([0.87901774, 0.87678395, 0.89088416])"
            ]
          },
          "metadata": {},
          "execution_count": 51
        }
      ]
    },
    {
      "cell_type": "markdown",
      "source": [
        "## 5. Summary, Conclusions and Lessons Learned"
      ],
      "metadata": {
        "id": "KQspxP0IGoO1"
      }
    },
    {
      "cell_type": "markdown",
      "source": [
        "I have learned the idea behind classification. In this activity, I used the Stochastic Gradient Descent to classify different numbers with the MNIST dataset and my personal dataset. I also learned ways to evaluate the accuracy of the model using different metrics. Finally, I have learned the different types of classification such as binary and multiclass classification."
      ],
      "metadata": {
        "id": "KvcmGICAoj1a"
      }
    },
    {
      "cell_type": "markdown",
      "source": [
        "<hr/>\n",
        "\n",
        "***Proprietary Clause***\n",
        "\n",
        "*Property of the Technological Institute of the Philippines (T.I.P.). No part of the materials made and uploaded in this learning management system by T.I.P. may be copied, photographed, printed, reproduced, shared, transmitted, translated, or reduced to any electronic medium or machine-readable form, in whole or in part, without the prior consent of T.I.P.*\n",
        "\n",
        "***Disclaimer***\n",
        "\n",
        "*Contents of this Notebook are based on Hands-On Machine Learning with Scikit-Learn, Keras, and TensorFlow 3rd Edition by Aurelien Geron*\n",
        "*A copy of the complete text can be obtained here: https://www.oreilly.com/library/view/hands-on-machine-learning/9781492032632/*"
      ],
      "metadata": {
        "id": "EqlVIPSqolAC"
      }
    }
  ]
}