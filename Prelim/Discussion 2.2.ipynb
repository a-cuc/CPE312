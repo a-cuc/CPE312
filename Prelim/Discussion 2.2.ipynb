{
  "nbformat": 4,
  "nbformat_minor": 0,
  "metadata": {
    "colab": {
      "provenance": [],
      "authorship_tag": "ABX9TyOB1U3ZLKO7e2mpABhAqHVJ",
      "include_colab_link": true
    },
    "kernelspec": {
      "name": "python3",
      "display_name": "Python 3"
    },
    "language_info": {
      "name": "python"
    }
  },
  "cells": [
    {
      "cell_type": "markdown",
      "metadata": {
        "id": "view-in-github",
        "colab_type": "text"
      },
      "source": [
        "<a href=\"https://colab.research.google.com/github/a-cuc/CPE312/blob/main/Prelim/Discussion%202.2.ipynb\" target=\"_parent\"><img src=\"https://colab.research.google.com/assets/colab-badge.svg\" alt=\"Open In Colab\"/></a>"
      ]
    },
    {
      "cell_type": "markdown",
      "source": [
        "Technological Institute of the Philippines | Quezon City - Computer Engineering\n",
        "--- | ---\n",
        "Course Code: | CPE 312\n",
        "Code Title: | Predictive Analytics using Machine Learning\n",
        "1st Semester | AY 2024-2025\n",
        "<u>**DISCUSSION 2.2** | **Logistic Regression**\n",
        "**Name** | Cu, Angelo Luis C.\n",
        "**Section** | CPE31S3\n",
        "**Date Performed**: | 9/19/2024\n",
        "**Date Submitted**: | 9/19/2024\n",
        "**Instructor**: | Dr. Alonica Villanueva\n",
        "\n",
        "<hr>"
      ],
      "metadata": {
        "id": "YKcfhaG2roTP"
      }
    },
    {
      "cell_type": "code",
      "source": [
        "import numpy as np\n",
        "import matplotlib.pyplot as plt"
      ],
      "metadata": {
        "id": "8ex11GQ8r23R"
      },
      "execution_count": 1,
      "outputs": []
    },
    {
      "cell_type": "code",
      "execution_count": 2,
      "metadata": {
        "colab": {
          "base_uri": "https://localhost:8080/"
        },
        "id": "WHkH-wPBq14q",
        "outputId": "92410551-efeb-4ca9-d14f-4432126e09af"
      },
      "outputs": [
        {
          "output_type": "stream",
          "name": "stdout",
          "text": [
            "-5\n"
          ]
        }
      ],
      "source": [
        "# Given:\n",
        "b = 1\n",
        "w1 = 3\n",
        "w2 = -2\n",
        "w3 = 4\n",
        "x1 = 0\n",
        "x2 = 5\n",
        "x3 = 1\n",
        "\n",
        "# Computing for z:\n",
        "z_pred = b + (x1*w1) + (x2*w2) + (x3*w3)\n",
        "print(z_pred)"
      ]
    },
    {
      "cell_type": "code",
      "source": [
        "# Getting the sigmoid function\n",
        "\n",
        "y = 1 / (1 + np.exp(-z_pred))\n",
        "\n",
        "print(\"z:\" + str(z_pred) + \" y:\" + str(y))"
      ],
      "metadata": {
        "colab": {
          "base_uri": "https://localhost:8080/"
        },
        "id": "XGPMvkFPrZww",
        "outputId": "ba8d285a-cc51-41e7-fce3-3706288131e9"
      },
      "execution_count": 3,
      "outputs": [
        {
          "output_type": "stream",
          "name": "stdout",
          "text": [
            "z:-5 y:0.0066928509242848554\n"
          ]
        }
      ]
    },
    {
      "cell_type": "code",
      "source": [
        "# Plotting the sigmoid function and the result\n",
        "# Generates a standard sigmoid function\n",
        "z = np.linspace(-10, 10, 100) # Generates a set of numbers from -10 to 10\n",
        "sig = 1 / (1 + np.exp(-z)) # Computes for the sigmoid equivalent\n",
        "\n",
        "plt.figure(figsize=(8, 3)) # Sets the size of the plot\n",
        "plt.plot(z, sig, \"b-\", linewidth=2, label=\"Sigmoid Function\") # Plots the sigmoid function line\n",
        "plt.xlabel(\"z\")\n",
        "plt.ylabel(\"y\")\n",
        "plt.plot(z_pred, y, 'ro', label=\"Prediction\") # Plots the result as a red dot\n",
        "\n",
        "plt.legend()\n",
        "\n",
        "# This means that given the input values,\n",
        "# the logistic regression model would output a y=0"
      ],
      "metadata": {
        "colab": {
          "base_uri": "https://localhost:8080/",
          "height": 329
        },
        "id": "UKjGRA_7tBNP",
        "outputId": "1629dee3-1b24-44a3-98b1-79257edae72e"
      },
      "execution_count": 6,
      "outputs": [
        {
          "output_type": "execute_result",
          "data": {
            "text/plain": [
              "<matplotlib.legend.Legend at 0x78ace26e3a90>"
            ]
          },
          "metadata": {},
          "execution_count": 6
        },
        {
          "output_type": "display_data",
          "data": {
            "text/plain": [
              "<Figure size 800x300 with 1 Axes>"
            ],
            "image/png": "[encoded data removed]"
          },
          "metadata": {}
        }
      ]
    }
  ]
}